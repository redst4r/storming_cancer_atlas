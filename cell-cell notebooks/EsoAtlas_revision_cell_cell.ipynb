{
 "cells": [
  {
   "cell_type": "code",
   "execution_count": 1,
   "id": "initial_id",
   "metadata": {
    "ExecuteTime": {
     "end_time": "2023-12-06T02:12:37.782414700Z",
     "start_time": "2023-12-06T02:12:37.766762500Z"
    }
   },
   "outputs": [],
   "source": [
    "# squidpy ligand-rec cellphonedb analysis on esoatlas"
   ]
  },
  {
   "cell_type": "code",
   "execution_count": 1,
   "id": "9debcd348dcbf5d7",
   "metadata": {
    "ExecuteTime": {
     "end_time": "2024-01-15T21:31:11.544868900Z",
     "start_time": "2024-01-15T21:31:04.107231100Z"
    },
    "collapsed": false,
    "jupyter": {
     "outputs_hidden": false
    }
   },
   "outputs": [],
   "source": [
    "import scanpy as sc\n",
    "import squidpy as sq\n",
    "import pandas as pd\n",
    "import numpy as np\n",
    "import seaborn as sns\n",
    "import scipy\n",
    "import pickle as pkl"
   ]
  },
  {
   "cell_type": "code",
   "execution_count": 2,
   "id": "789fa99ebeb02f78",
   "metadata": {
    "ExecuteTime": {
     "end_time": "2024-01-15T01:10:06.472496200Z",
     "start_time": "2024-01-15T01:10:06.449338Z"
    },
    "collapsed": false,
    "jupyter": {
     "outputs_hidden": false
    }
   },
   "outputs": [],
   "source": [
    "import sys\n",
    "sys.path.append('/users/mstrasse/McGill_analysis/Atlas_revision/')\n",
    "from revision_utils import load_original_data"
   ]
  },
  {
   "cell_type": "code",
   "execution_count": 2,
   "id": "ea67e402482d4858",
   "metadata": {
    "ExecuteTime": {
     "end_time": "2024-01-15T21:31:15.398241800Z",
     "start_time": "2024-01-15T21:31:11.540351Z"
    },
    "collapsed": false,
    "jupyter": {
     "outputs_hidden": false
    }
   },
   "outputs": [],
   "source": [
    "# the atlas adata\n",
    "q = load_original_data()\n",
    "\n",
    "# load the finegrained labels obs\n",
    "qobs = pd.read_csv('../EsoAtlas_july182022_obs_w_fine_grain_celltypes.csv', index_col=0)\n",
    "\n",
    "# getting into the right order\n",
    "qobs = qobs.loc[q.obs.index,:]\n",
    "\n",
    "# copying it over\n",
    "q.obs = qobs\n",
    "\n",
    "# drop cells without a fine grained label\n",
    "qobs2 = q.obs.dropna(subset=['Fine_Grained_Label'])\n",
    "\n",
    "q = q[qobs2.index]"
   ]
  },
  {
   "cell_type": "code",
   "execution_count": 3,
   "id": "735b0f5498bcaf5b",
   "metadata": {
    "ExecuteTime": {
     "end_time": "2024-01-15T21:32:58.258450Z",
     "start_time": "2024-01-15T21:32:58.184286900Z"
    },
    "collapsed": false,
    "jupyter": {
     "outputs_hidden": false
    }
   },
   "outputs": [
    {
     "data": {
      "text/plain": [
       "View of AnnData object with n_obs × n_vars = 154520 × 35606\n",
       "    obs: 'samplename', 'n_genes', 'n_molecules', 'doublet_score', 'percent_mito', 'leiden', 'louvain', 'diagnosis', 'phase', 'sample_diagnosis', 'patient', 'treatment', 'procedure', 'hcl_refined', 'hcl_celltype', 'hcl_score', 'CLid', 'CL_name', 'nobatch_leiden', 'nobatch_louvain', 'cnv_avg', 'has_cnv', 'allcells_leiden', 'allcells_nobatch_leiden', 'ct_leiden', 'ct_nobatch_leiden', 'celltype_split', 'Coarse_Grained_Label', 'Fine_Grained_Label'\n",
       "    var: 'gene_ids', 'feature_types', 'genome', 'is_mito', 'is_ribo'\n",
       "    uns: 'leiden', 'leiden_colors', 'leiden_sizes', 'log_X', 'log_raw.X', 'louvain', 'neighbors', 'nobatch', 'nobatch_leiden_colors', 'nobatch_leiden_sizes', 'nobatch_rank_genes_groups', 'nobatch_rank_genes_groups_filtered', 'nobatch_rank_genes_groups_unfiltered', 'paga', 'pca', 'rank_genes_groups', 'rank_genes_groups_filtered', 'rank_genes_groups_unfiltered', 'umap'\n",
       "    obsm: 'X_pca', 'X_pca_original', 'X_umap', 'X_umap_nobatch'\n",
       "    obsp: 'connectivities', 'distances', 'nobatch_connectivities', 'nobatch_distances'"
      ]
     },
     "execution_count": 3,
     "metadata": {},
     "output_type": "execute_result"
    }
   ],
   "source": [
    "q"
   ]
  },
  {
   "cell_type": "code",
   "execution_count": 96,
   "id": "f59680a40e1c79",
   "metadata": {
    "ExecuteTime": {
     "end_time": "2024-01-16T00:43:15.138260200Z",
     "start_time": "2024-01-16T00:43:14.321720800Z"
    },
    "collapsed": false,
    "jupyter": {
     "outputs_hidden": false
    }
   },
   "outputs": [],
   "source": [
    "qdx = q[q.obs.diagnosis == 'M'].copy()\n",
    "#del q, qobs, qobs2\n",
    "sc.pp.normalize_total(qdx,target_sum=10000)\n",
    "# they do this in several tutorials..\n",
    "qdx.raw = qdx.copy()\n",
    "qdx.obs['Fine_Grained_Label'] = qdx.obs['Fine_Grained_Label'].astype('category')\n",
    "qdx.obs['Coarse_Grained_Label'] = qdx.obs['Coarse_Grained_Label'].astype('category')\n",
    "qdx.obs['leiden'] = qdx.obs['leiden'].astype('category')"
   ]
  },
  {
   "cell_type": "code",
   "execution_count": 91,
   "id": "62cce3f603893e10",
   "metadata": {
    "ExecuteTime": {
     "end_time": "2024-01-16T00:42:26.012392900Z",
     "start_time": "2024-01-16T00:42:25.921812500Z"
    },
    "collapsed": false,
    "jupyter": {
     "outputs_hidden": false
    }
   },
   "outputs": [
    {
     "data": {
      "text/plain": [
       "0.0578125"
      ]
     },
     "execution_count": 91,
     "metadata": {},
     "output_type": "execute_result"
    }
   ],
   "source": [
    "ci = \"Plasma cells\"\n",
    "gi = \"CXCR4\"\n",
    "X = (qdx[qdx.obs.Fine_Grained_Label == ci, gi].X > 3)\n",
    "X.nnz / X.shape[0]"
   ]
  },
  {
   "cell_type": "code",
   "execution_count": 92,
   "id": "b7d87137e808085d",
   "metadata": {
    "ExecuteTime": {
     "end_time": "2024-01-16T00:42:27.247180900Z",
     "start_time": "2024-01-16T00:42:27.196170600Z"
    },
    "collapsed": false,
    "jupyter": {
     "outputs_hidden": false
    }
   },
   "outputs": [
    {
     "data": {
      "text/plain": [
       "0.11549295774647887"
      ]
     },
     "execution_count": 92,
     "metadata": {},
     "output_type": "execute_result"
    }
   ],
   "source": [
    "ci = 'Capillary endothelial cells'\n",
    "gi = 'CD36'\n",
    "X = (qdx[qdx.obs.Fine_Grained_Label == ci, gi].X > 3)\n",
    "X.nnz / X.shape[0]"
   ]
  },
  {
   "cell_type": "code",
   "execution_count": 88,
   "id": "8c18b816ecff2cc6",
   "metadata": {
    "ExecuteTime": {
     "end_time": "2024-01-16T00:41:57.245529600Z",
     "start_time": "2024-01-16T00:41:57.168010200Z"
    },
    "collapsed": false,
    "jupyter": {
     "outputs_hidden": false
    }
   },
   "outputs": [
    {
     "data": {
      "text/plain": [
       "0.9646643109540636"
      ]
     },
     "execution_count": 88,
     "metadata": {},
     "output_type": "execute_result"
    }
   ],
   "source": [
    "#NS\n",
    "ci = 'Fibroblasts, CAF'\n",
    "gi = 'POSTN'\n",
    "X = (qdx[qdx.obs.Fine_Grained_Label == ci, gi].X > 3)\n",
    "X.nnz / X.shape[0]"
   ]
  },
  {
   "cell_type": "code",
   "execution_count": 89,
   "id": "88942983a62ad74",
   "metadata": {
    "ExecuteTime": {
     "end_time": "2024-01-16T00:41:59.176098100Z",
     "start_time": "2024-01-16T00:41:59.112556400Z"
    },
    "collapsed": false,
    "jupyter": {
     "outputs_hidden": false
    }
   },
   "outputs": [
    {
     "data": {
      "text/plain": [
       "121.56572"
      ]
     },
     "execution_count": 89,
     "metadata": {},
     "output_type": "execute_result"
    }
   ],
   "source": [
    "qdx[qdx.obs.Fine_Grained_Label == ci, gi].X.mean()"
   ]
  },
  {
   "cell_type": "code",
   "execution_count": 93,
   "id": "810a52fefe110765",
   "metadata": {
    "ExecuteTime": {
     "end_time": "2024-01-16T00:42:34.793130Z",
     "start_time": "2024-01-16T00:42:34.734741Z"
    },
    "collapsed": false,
    "jupyter": {
     "outputs_hidden": false
    }
   },
   "outputs": [
    {
     "data": {
      "text/plain": [
       "0.7820267686424475"
      ]
     },
     "execution_count": 93,
     "metadata": {},
     "output_type": "execute_result"
    }
   ],
   "source": [
    "#T\n",
    "ci = 'Fibroblasts, CAF'\n",
    "gi = 'POSTN'\n",
    "X = (qdx[qdx.obs.Fine_Grained_Label == ci, gi].X > 3)\n",
    "X.nnz / X.shape[0]"
   ]
  },
  {
   "cell_type": "code",
   "execution_count": 94,
   "id": "462e1dda2ad91525",
   "metadata": {
    "ExecuteTime": {
     "end_time": "2024-01-16T00:42:35.015227700Z",
     "start_time": "2024-01-16T00:42:34.952714900Z"
    },
    "collapsed": false,
    "jupyter": {
     "outputs_hidden": false
    }
   },
   "outputs": [
    {
     "data": {
      "text/plain": [
       "51.916157"
      ]
     },
     "execution_count": 94,
     "metadata": {},
     "output_type": "execute_result"
    }
   ],
   "source": [
    "qdx[qdx.obs.Fine_Grained_Label == ci, gi].X.mean()"
   ]
  },
  {
   "cell_type": "code",
   "execution_count": 95,
   "id": "c0622f4d22904561",
   "metadata": {
    "ExecuteTime": {
     "end_time": "2024-01-16T00:42:57.616078100Z",
     "start_time": "2024-01-16T00:42:57.580567500Z"
    },
    "collapsed": false,
    "jupyter": {
     "outputs_hidden": false
    }
   },
   "outputs": [
    {
     "data": {
      "text/plain": [
       "2.3417453284530922"
      ]
     },
     "execution_count": 95,
     "metadata": {},
     "output_type": "execute_result"
    }
   ],
   "source": [
    "121.56 / 51.91"
   ]
  },
  {
   "cell_type": "code",
   "execution_count": 97,
   "id": "1f8f42ea0849e90",
   "metadata": {
    "ExecuteTime": {
     "end_time": "2024-01-16T00:43:20.450786200Z",
     "start_time": "2024-01-16T00:43:20.415776800Z"
    },
    "collapsed": false,
    "jupyter": {
     "outputs_hidden": false
    }
   },
   "outputs": [
    {
     "data": {
      "text/plain": [
       "0.8805031446540881"
      ]
     },
     "execution_count": 97,
     "metadata": {},
     "output_type": "execute_result"
    }
   ],
   "source": [
    "#M\n",
    "ci = 'Fibroblasts, CAF'\n",
    "gi = 'POSTN'\n",
    "X = (qdx[qdx.obs.Fine_Grained_Label == ci, gi].X > 3)\n",
    "X.nnz / X.shape[0]"
   ]
  },
  {
   "cell_type": "code",
   "execution_count": 98,
   "id": "f89382d92d0ce219",
   "metadata": {
    "ExecuteTime": {
     "end_time": "2024-01-16T00:43:21.282225500Z",
     "start_time": "2024-01-16T00:43:21.228227600Z"
    },
    "collapsed": false,
    "jupyter": {
     "outputs_hidden": false
    }
   },
   "outputs": [
    {
     "data": {
      "text/plain": [
       "64.57528"
      ]
     },
     "execution_count": 98,
     "metadata": {},
     "output_type": "execute_result"
    }
   ],
   "source": [
    "qdx[qdx.obs.Fine_Grained_Label == ci, gi].X.mean()"
   ]
  },
  {
   "cell_type": "code",
   "execution_count": 99,
   "id": "3d03ea8426077436",
   "metadata": {
    "ExecuteTime": {
     "end_time": "2024-01-16T00:43:34.227752700Z",
     "start_time": "2024-01-16T00:43:34.147712500Z"
    },
    "collapsed": false,
    "jupyter": {
     "outputs_hidden": false
    }
   },
   "outputs": [
    {
     "data": {
      "text/plain": [
       "1.2438836447697939"
      ]
     },
     "execution_count": 99,
     "metadata": {},
     "output_type": "execute_result"
    }
   ],
   "source": [
    "64.57 / 51.91"
   ]
  },
  {
   "cell_type": "code",
   "execution_count": 56,
   "id": "9c04c46a15500cc1",
   "metadata": {
    "ExecuteTime": {
     "end_time": "2024-01-15T22:08:11.590885900Z",
     "start_time": "2024-01-15T22:08:04.496427900Z"
    },
    "collapsed": false,
    "jupyter": {
     "outputs_hidden": false
    }
   },
   "outputs": [],
   "source": [
    "cellnames = list(set(qdx.obs.Coarse_Grained_Label))\n",
    "reslist = {}\n",
    "for ci in cellnames: #= \"CD8 T cells\"\n",
    "    #ci = 'Proliferating T cells' # \"CD8 T cells\" #\n",
    "    X = (qdx[qdx.obs.Coarse_Grained_Label == ci].X > 3)\n",
    "    rows, cols = X.nonzero()\n",
    "    numcells = float(X.shape[0])\n",
    "    gene_col_cnt = np.bincount(np.array(cols))\n",
    "    if len(gene_col_cnt) < 35606:\n",
    "        print(ci)\n",
    "        numMissing = 35606 - len(gene_col_cnt)\n",
    "        gene_col_cnt = np.pad(gene_col_cnt, (0, numMissing), 'constant', constant_values=(0, 0))\n",
    "    geneFrac = gene_col_cnt / numcells\n",
    "    reslist[ci] = geneFrac\n",
    "pd.DataFrame(reslist, index=qdx.var.index).to_csv('results/gene_fracs_T_coarse_grained.csv')"
   ]
  },
  {
   "cell_type": "code",
   "execution_count": 57,
   "id": "fca8f58132fdac1b",
   "metadata": {
    "ExecuteTime": {
     "end_time": "2024-01-15T22:08:18.668242900Z",
     "start_time": "2024-01-15T22:08:11.592888100Z"
    },
    "collapsed": false,
    "jupyter": {
     "outputs_hidden": false
    }
   },
   "outputs": [
    {
     "name": "stdout",
     "output_type": "stream",
     "text": [
      "Squamous epithelium intermediate\n",
      "Memory B cells\n",
      "Squamous epithelium basal\n"
     ]
    }
   ],
   "source": [
    "cellnames = list(set(qdx.obs.Fine_Grained_Label))\n",
    "reslist = {}\n",
    "for ci in cellnames: #= \"CD8 T cells\"\n",
    "    #ci = 'Proliferating T cells' # \"CD8 T cells\" #\n",
    "    X = (qdx[qdx.obs.Fine_Grained_Label == ci].X > 3)\n",
    "    rows, cols = X.nonzero()\n",
    "    numcells = float(X.shape[0])\n",
    "    gene_col_cnt = np.bincount(np.array(cols))\n",
    "    if len(gene_col_cnt) < 35606:\n",
    "        print(ci)\n",
    "        numMissing = 35606 - len(gene_col_cnt)\n",
    "        gene_col_cnt = np.pad(gene_col_cnt, (0, numMissing), 'constant', constant_values=(0, 0))\n",
    "    geneFrac = gene_col_cnt / numcells\n",
    "    reslist[ci] = geneFrac\n",
    "pd.DataFrame(reslist, index=qdx.var.index).to_csv('results/gene_fracs_T_fine_grained.csv')"
   ]
  },
  {
   "cell_type": "code",
   "execution_count": 62,
   "id": "5af1f316f2dfb61d",
   "metadata": {
    "ExecuteTime": {
     "end_time": "2024-01-15T22:12:39.973130600Z",
     "start_time": "2024-01-15T22:12:39.931957100Z"
    },
    "collapsed": false,
    "jupyter": {
     "outputs_hidden": false
    }
   },
   "outputs": [],
   "source": []
  },
  {
   "cell_type": "code",
   "execution_count": 62,
   "id": "2683b66cfb9312b3",
   "metadata": {
    "ExecuteTime": {
     "end_time": "2024-01-15T22:12:41.782913700Z",
     "start_time": "2024-01-15T22:12:41.706024100Z"
    },
    "collapsed": false,
    "jupyter": {
     "outputs_hidden": false
    }
   },
   "outputs": [],
   "source": []
  },
  {
   "cell_type": "code",
   "execution_count": null,
   "id": "12df2fbe754d5a7a",
   "metadata": {
    "collapsed": false,
    "jupyter": {
     "outputs_hidden": false
    }
   },
   "outputs": [],
   "source": []
  },
  {
   "cell_type": "code",
   "execution_count": 7,
   "id": "ddc05d3180576c05",
   "metadata": {
    "ExecuteTime": {
     "end_time": "2023-12-09T00:00:47.992321800Z",
     "start_time": "2023-12-09T00:00:47.662296500Z"
    },
    "collapsed": false,
    "jupyter": {
     "outputs_hidden": false
    }
   },
   "outputs": [],
   "source": [
    "sc.pl.umap(qdx, color='Coarse_Grained_Label')"
   ]
  },
  {
   "cell_type": "code",
   "execution_count": 8,
   "id": "4dfa0797446db086",
   "metadata": {
    "ExecuteTime": {
     "end_time": "2023-12-09T00:00:49.731274100Z",
     "start_time": "2023-12-09T00:00:49.686838400Z"
    },
    "collapsed": false,
    "jupyter": {
     "outputs_hidden": false
    }
   },
   "outputs": [],
   "source": [
    "res = sq.gr.ligrec(\n",
    "    qdx,\n",
    "    n_perms=1000,\n",
    "    threshold=0.00001,\n",
    "    cluster_key=\"Coarse_Grained_Label\",\n",
    "    copy=True,\n",
    "    use_raw=False,\n",
    "    interactions_params={\"resources\": \"CellPhoneDB\"},\n",
    "    #interactions=lrs,\n",
    "    jobs=4\n",
    "    #transmitter_params={\"categories\": \"ligand\"},\n",
    "    #receiver_params={\"categories\": \"receptor\"},\n",
    ")\n"
   ]
  },
  {
   "cell_type": "code",
   "execution_count": 9,
   "id": "7e9bf2ed1fb01349",
   "metadata": {
    "ExecuteTime": {
     "end_time": "2023-12-09T00:00:51.514771100Z",
     "start_time": "2023-12-09T00:00:51.049026600Z"
    },
    "collapsed": false,
    "jupyter": {
     "outputs_hidden": false
    }
   },
   "outputs": [
    {
     "name": "stderr",
     "output_type": "stream",
     "text": [
      "C:\\Users\\daveg\\DataspellProjects\\CRUK_Atlas_Derived_Data\\env\\lib\\site-packages\\scanpy\\plotting\\_tools\\scatterplots.py:1217: FutureWarning: The default value of 'ignore' for the `na_action` parameter in pandas.Categorical.map is deprecated and will be changed to 'None' in a future version. Please set na_action to the desired value to avoid seeing this warning\n",
      "  color_vector = pd.Categorical(values.map(color_map))\n",
      "C:\\Users\\daveg\\DataspellProjects\\CRUK_Atlas_Derived_Data\\env\\lib\\site-packages\\scanpy\\plotting\\_tools\\scatterplots.py:392: UserWarning: No data for colormapping provided via 'c'. Parameters 'cmap' will be ignored\n",
      "  cax = scatter(\n"
     ]
    },
    {
     "data": {
      "image/png": "[encoded data removed]",
      "text/plain": [
       "<Figure size 640x480 with 1 Axes>"
      ]
     },
     "metadata": {},
     "output_type": "display_data"
    }
   ],
   "source": [
    "\n",
    "p = pkl.dumps(res)\n",
    "fout = open('results/coarse_ligrec.pkl', 'wb')\n",
    "fout.write(p)\n",
    "fout.close()"
   ]
  },
  {
   "cell_type": "code",
   "execution_count": 4,
   "id": "3f12298c90eb7e3b",
   "metadata": {
    "ExecuteTime": {
     "end_time": "2024-01-05T00:45:43.482105600Z",
     "start_time": "2024-01-05T00:45:43.448374Z"
    },
    "collapsed": false,
    "jupyter": {
     "outputs_hidden": false
    }
   },
   "outputs": [],
   "source": []
  },
  {
   "cell_type": "code",
   "execution_count": null,
   "id": "e02d102a0f9db1c6",
   "metadata": {
    "collapsed": false,
    "jupyter": {
     "outputs_hidden": false
    }
   },
   "outputs": [],
   "source": []
  },
  {
   "cell_type": "code",
   "execution_count": null,
   "id": "84beab39a927a984",
   "metadata": {
    "collapsed": false,
    "jupyter": {
     "outputs_hidden": false
    }
   },
   "outputs": [],
   "source": []
  },
  {
   "cell_type": "code",
   "execution_count": null,
   "id": "b296dc436a5ca3f4",
   "metadata": {
    "collapsed": false,
    "jupyter": {
     "outputs_hidden": false
    }
   },
   "outputs": [],
   "source": []
  },
  {
   "cell_type": "code",
   "execution_count": null,
   "id": "b525606c26c6dd68",
   "metadata": {
    "collapsed": false,
    "jupyter": {
     "outputs_hidden": false
    }
   },
   "outputs": [],
   "source": [
    "diagstr = 'T'\n",
    "qsub = q[q.obs.diagnosis == diagstr].copy()"
   ]
  },
  {
   "cell_type": "code",
   "execution_count": 5,
   "id": "29758c27b46c6bd1",
   "metadata": {
    "ExecuteTime": {
     "end_time": "2024-01-05T00:46:14.315291700Z",
     "start_time": "2024-01-05T00:46:14.188773700Z"
    },
    "collapsed": false,
    "jupyter": {
     "outputs_hidden": false
    }
   },
   "outputs": [],
   "source": [
    "del q, qobs, qobs2"
   ]
  },
  {
   "cell_type": "code",
   "execution_count": null,
   "id": "ba940e4dd9e1bca8",
   "metadata": {
    "collapsed": false,
    "jupyter": {
     "outputs_hidden": false
    }
   },
   "outputs": [],
   "source": [
    "# first normalize the counts\n",
    "sc.pp.normalize_total(qsub, target_sum=10000)\n",
    "\n",
    "# they do this in several tutorials..\n",
    "qsub.raw = qsub.copy()\n",
    "qsub.X = scipy.csr_array(qsub.X)\n",
    "qsub.obs['Fine_Grained_Label'] = qsub.obs['Fine_Grained_Label'].astype('category')\n",
    "qsub.obs['Coarse_Grained_Label'] = qsub.obs['Coarse_Grained_Label'].astype('category')\n",
    "qsub.obs['leiden'] = qsub.obs['leiden'].astype('category')\n",
    "\n",
    "res_coarse = sq.gr.ligrec(\n",
    "    qsub,\n",
    "    n_perms=1000,\n",
    "    threshold=0.00001,\n",
    "    cluster_key=\"Coarse_Grained_Label\",\n",
    "    copy=True,\n",
    "    use_raw=False,\n",
    "    interactions_params={\"resources\": \"CellPhoneDB\"},\n",
    "    #interactions=lrs,\n",
    "    jobs=4\n",
    "    #transmitter_params={\"categories\": \"ligand\"},\n",
    "    #receiver_params={\"categories\": \"receptor\"},\n",
    ")\n",
    "\n",
    "res_fine = sq.gr.ligrec(\n",
    "    qsub,\n",
    "    n_perms=1000,\n",
    "    threshold=0.00001,\n",
    "    cluster_key=\"Fine_Grained_Label\",\n",
    "    copy=True,\n",
    "    use_raw=False,\n",
    "    interactions_params={\"resources\": \"CellPhoneDB\"},\n",
    "    #interactions=lrs,\n",
    "    jobs=4\n",
    "    #transmitter_params={\"categories\": \"ligand\"},\n",
    "    #receiver_params={\"categories\": \"receptor\"},\n",
    ")\n",
    "\n",
    "\n",
    "p_coarse = pkl.dumps(res_coarse)\n",
    "fout = open('results/'+diagstr+'coarse_ligrec.pkl', 'wb')\n",
    "fout.write(p_coarse)\n",
    "fout.close()\n",
    "\n",
    "p_fine = pkl.dumps(res_fine)\n",
    "fout = open('results/'+diagstr+'fine_ligrec.pkl', 'wb')\n",
    "fout.write(p_fine)\n",
    "fout.close()\n"
   ]
  },
  {
   "cell_type": "code",
   "execution_count": null,
   "id": "25e28822d1420cf9",
   "metadata": {
    "collapsed": false,
    "jupyter": {
     "outputs_hidden": false
    }
   },
   "outputs": [],
   "source": []
  },
  {
   "cell_type": "code",
   "execution_count": null,
   "id": "317059cdcf5b0874",
   "metadata": {
    "collapsed": false,
    "jupyter": {
     "outputs_hidden": false
    }
   },
   "outputs": [],
   "source": []
  },
  {
   "cell_type": "code",
   "execution_count": null,
   "id": "12eac08d0a7a04ea",
   "metadata": {
    "collapsed": false,
    "jupyter": {
     "outputs_hidden": false
    }
   },
   "outputs": [],
   "source": []
  },
  {
   "cell_type": "code",
   "execution_count": null,
   "id": "d3da626a86f55f47",
   "metadata": {
    "collapsed": false,
    "jupyter": {
     "outputs_hidden": false
    }
   },
   "outputs": [],
   "source": []
  },
  {
   "cell_type": "code",
   "execution_count": null,
   "id": "8499b51557809696",
   "metadata": {
    "collapsed": false,
    "jupyter": {
     "outputs_hidden": false
    }
   },
   "outputs": [],
   "source": []
  },
  {
   "cell_type": "code",
   "execution_count": null,
   "id": "e405f2f593649f2c",
   "metadata": {
    "collapsed": false,
    "jupyter": {
     "outputs_hidden": false
    }
   },
   "outputs": [],
   "source": []
  },
  {
   "cell_type": "code",
   "execution_count": null,
   "id": "acca5c5de387c1f",
   "metadata": {
    "collapsed": false,
    "jupyter": {
     "outputs_hidden": false
    }
   },
   "outputs": [],
   "source": [
    "sq.pl.ligrec(res, source_groups=\"CD4 T cells\", alpha=0.001, pvalue_threshold=0.001, remove_nonsig_interactions=True)"
   ]
  },
  {
   "cell_type": "code",
   "execution_count": null,
   "id": "4c87e0c5fa584388",
   "metadata": {
    "collapsed": false,
    "jupyter": {
     "outputs_hidden": false
    }
   },
   "outputs": [],
   "source": []
  },
  {
   "cell_type": "code",
   "execution_count": 5,
   "id": "b367319517f0d124",
   "metadata": {
    "ExecuteTime": {
     "end_time": "2023-12-15T22:47:59.689648900Z",
     "start_time": "2023-12-15T22:47:59.651581100Z"
    },
    "collapsed": false,
    "jupyter": {
     "outputs_hidden": false
    }
   },
   "outputs": [],
   "source": [
    "import pickle as pkl\n",
    "import numpy as np"
   ]
  },
  {
   "cell_type": "code",
   "execution_count": 67,
   "id": "5de6c4f655837ebc",
   "metadata": {
    "ExecuteTime": {
     "end_time": "2023-12-15T23:17:05.559941900Z",
     "start_time": "2023-12-15T23:17:05.284205300Z"
    },
    "collapsed": false,
    "jupyter": {
     "outputs_hidden": false
    }
   },
   "outputs": [],
   "source": [
    "fin = open('results/ligrec_results/m_fine_ligrec.pkl', 'rb')\n",
    "res_m = pkl.load(fin)\n",
    "\n",
    "fin = open('results/ligrec_results/t_fine_ligrec.pkl', 'rb')\n",
    "res_t = pkl.load(fin)"
   ]
  },
  {
   "cell_type": "code",
   "execution_count": 68,
   "id": "84b5c4b74c3c03d8",
   "metadata": {
    "ExecuteTime": {
     "end_time": "2023-12-15T23:17:06.553680900Z",
     "start_time": "2023-12-15T23:17:06.502861600Z"
    },
    "collapsed": false,
    "jupyter": {
     "outputs_hidden": false
    }
   },
   "outputs": [],
   "source": [
    "pm_df = res_m['pvalues']"
   ]
  },
  {
   "cell_type": "code",
   "execution_count": 8,
   "id": "e8c7169927f37db7",
   "metadata": {
    "ExecuteTime": {
     "end_time": "2023-12-15T22:48:02.582074900Z",
     "start_time": "2023-12-15T22:48:02.540929600Z"
    },
    "collapsed": false,
    "jupyter": {
     "outputs_hidden": false
    }
   },
   "outputs": [],
   "source": [
    "cit = 'Foveolar cells'\n",
    "cjt = 'Capillary endothelial cells'"
   ]
  },
  {
   "cell_type": "code",
   "execution_count": 9,
   "id": "5ba33953baca1ef1",
   "metadata": {
    "ExecuteTime": {
     "end_time": "2023-12-15T22:48:02.911891100Z",
     "start_time": "2023-12-15T22:48:02.847731500Z"
    },
    "collapsed": false,
    "jupyter": {
     "outputs_hidden": false
    }
   },
   "outputs": [
    {
     "data": {
      "text/plain": [
       "0.0163"
      ]
     },
     "execution_count": 9,
     "metadata": {},
     "output_type": "execute_result"
    }
   ],
   "source": [
    "one_row = pm_df.iloc[31,:]\n",
    "one_row[cit][cjt]"
   ]
  },
  {
   "cell_type": "code",
   "execution_count": 10,
   "id": "82a4b6b9e60a46d9",
   "metadata": {
    "ExecuteTime": {
     "end_time": "2023-12-15T22:48:03.840882100Z",
     "start_time": "2023-12-15T22:48:03.812831800Z"
    },
    "collapsed": false,
    "jupyter": {
     "outputs_hidden": false
    }
   },
   "outputs": [
    {
     "data": {
      "text/plain": [
       "['Arterial endothelial cells',\n",
       " 'CD4 T cells',\n",
       " 'CD8 T cells',\n",
       " 'Capillary endothelial cells',\n",
       " 'Chief cells',\n",
       " 'Dendritic cells',\n",
       " 'Dysplasia-carcinoma',\n",
       " 'Fibroblasts, CAF',\n",
       " 'Fibroblasts, NAF',\n",
       " 'Foveolar cells',\n",
       " 'Gastric mucous secreting cells',\n",
       " 'Gastro-intestinal metaplasia',\n",
       " 'Goblet cells',\n",
       " 'Lymphatic endothelial cells',\n",
       " 'Macrophages',\n",
       " 'Mast cells',\n",
       " 'Memory B cells',\n",
       " 'Monocytes',\n",
       " 'Myofibroblasts-1',\n",
       " 'Myofibroblasts-2',\n",
       " 'NK cells',\n",
       " 'Naive B cells',\n",
       " 'Neuroendocrine cells',\n",
       " 'Neutrophils',\n",
       " 'Pericytes',\n",
       " 'Plasma cells',\n",
       " 'Plasmacytoid dendritic cells',\n",
       " 'Proliferating T cells',\n",
       " 'Secretory cells',\n",
       " 'Squamous epithelium basal',\n",
       " 'Squamous epithelium intermediate',\n",
       " 'Squamous epithelium upper',\n",
       " 'Stressed Dying T cells',\n",
       " 'T regs',\n",
       " 'Venous endothelial cells']"
      ]
     },
     "execution_count": 10,
     "metadata": {},
     "output_type": "execute_result"
    }
   ],
   "source": [
    "cellnames = one_row['CD4 T cells'].index.tolist()\n",
    "cellnames"
   ]
  },
  {
   "cell_type": "code",
   "execution_count": 11,
   "id": "4ae09f7d0e730cc4",
   "metadata": {
    "ExecuteTime": {
     "end_time": "2023-12-15T22:48:05.128538700Z",
     "start_time": "2023-12-15T22:48:05.063374600Z"
    },
    "collapsed": false,
    "jupyter": {
     "outputs_hidden": false
    }
   },
   "outputs": [
    {
     "data": {
      "text/plain": [
       "1225"
      ]
     },
     "execution_count": 11,
     "metadata": {},
     "output_type": "execute_result"
    }
   ],
   "source": [
    "len(cellnames) * len(cellnames)"
   ]
  },
  {
   "cell_type": "code",
   "execution_count": 12,
   "id": "333c521365ff2428",
   "metadata": {
    "ExecuteTime": {
     "end_time": "2023-12-15T22:48:06.611824500Z",
     "start_time": "2023-12-15T22:48:06.580221500Z"
    },
    "collapsed": false,
    "jupyter": {
     "outputs_hidden": false
    }
   },
   "outputs": [],
   "source": [
    "def unravel(one_row, cit, cjt):  # cit: ci target\n",
    "    cellpairs = []\n",
    "    values = []\n",
    "    idx = None\n",
    "    cnt = 0\n",
    "    for ci in cellnames:\n",
    "        for cj in cellnames:\n",
    "            cellpairs.append(ci+'_'+cj)\n",
    "            values.append(one_row[ci][cj])\n",
    "            if ci == cit and cj == cjt:\n",
    "                idx = cnt \n",
    "            cnt += 1\n",
    "    values = np.array(values)\n",
    "    return( (cellpairs, values, idx) )"
   ]
  },
  {
   "cell_type": "code",
   "execution_count": 18,
   "id": "82edb02bc46f955d",
   "metadata": {
    "ExecuteTime": {
     "end_time": "2023-12-09T00:03:03.990209700Z",
     "start_time": "2023-12-09T00:01:57.979187500Z"
    },
    "collapsed": false,
    "jupyter": {
     "outputs_hidden": false
    }
   },
   "outputs": [
    {
     "name": "stdout",
     "output_type": "stream",
     "text": [
      "0\n",
      "200\n",
      "400\n",
      "600\n",
      "800\n",
      "1000\n",
      "1200\n",
      "1400\n"
     ]
    }
   ],
   "source": [
    "res0 = []\n",
    "# for each row in the tables that is signifcant for cit-cjt\n",
    "# get the number of significant LR pairs\n",
    "for row_i in range(0, pm_df.shape[0]):\n",
    "    if row_i % 200 == 0:\n",
    "        print(row_i)\n",
    "    one_row = pm_df.iloc[row_i,:]\n",
    "    if one_row[cit][cjt] < 0.01:\n",
    "        (cps, vals, idx) = unravel(one_row, cit, cjt)\n",
    "        res0.append(sum(vals < 0.01))# < 5:  # this includes results of cit-cjt\n",
    "    \n",
    "        #    res0.append(row_i)\n"
   ]
  },
  {
   "cell_type": "code",
   "execution_count": 63,
   "id": "18f5f2e2d127dc62",
   "metadata": {
    "ExecuteTime": {
     "end_time": "2023-12-09T00:37:31.868032100Z",
     "start_time": "2023-12-09T00:37:31.814038900Z"
    },
    "collapsed": false,
    "jupyter": {
     "outputs_hidden": false
    }
   },
   "outputs": [],
   "source": [
    "res0.sort()"
   ]
  },
  {
   "cell_type": "code",
   "execution_count": 64,
   "id": "1f19b80839a893ca",
   "metadata": {
    "ExecuteTime": {
     "end_time": "2023-12-09T00:37:35.915140100Z",
     "start_time": "2023-12-09T00:37:35.834123700Z"
    },
    "collapsed": false,
    "jupyter": {
     "outputs_hidden": false
    },
    "scrolled": true
   },
   "outputs": [
    {
     "data": {
      "text/plain": [
       "[5,\n",
       " 10,\n",
       " 12,\n",
       " 12,\n",
       " 13,\n",
       " 17,\n",
       " 18,\n",
       " 19,\n",
       " 20,\n",
       " 20,\n",
       " 23,\n",
       " 24,\n",
       " 24,\n",
       " 24,\n",
       " 24,\n",
       " 25,\n",
       " 25,\n",
       " 26,\n",
       " 27,\n",
       " 27,\n",
       " 27,\n",
       " 30,\n",
       " 30,\n",
       " 30,\n",
       " 32,\n",
       " 33,\n",
       " 35,\n",
       " 35,\n",
       " 36,\n",
       " 36,\n",
       " 36,\n",
       " 38,\n",
       " 39,\n",
       " 40,\n",
       " 42,\n",
       " 42,\n",
       " 42,\n",
       " 43,\n",
       " 46,\n",
       " 46,\n",
       " 48,\n",
       " 48,\n",
       " 48,\n",
       " 51,\n",
       " 53,\n",
       " 54,\n",
       " 54,\n",
       " 55,\n",
       " 55,\n",
       " 57,\n",
       " 58,\n",
       " 58,\n",
       " 60,\n",
       " 62,\n",
       " 63,\n",
       " 64,\n",
       " 64,\n",
       " 64,\n",
       " 65,\n",
       " 65,\n",
       " 69,\n",
       " 70,\n",
       " 71,\n",
       " 71,\n",
       " 72,\n",
       " 72,\n",
       " 73,\n",
       " 73,\n",
       " 74,\n",
       " 76,\n",
       " 77,\n",
       " 80,\n",
       " 80,\n",
       " 82,\n",
       " 82,\n",
       " 83,\n",
       " 84,\n",
       " 84,\n",
       " 85,\n",
       " 86,\n",
       " 87,\n",
       " 87,\n",
       " 88,\n",
       " 88,\n",
       " 88,\n",
       " 89,\n",
       " 91,\n",
       " 92,\n",
       " 92,\n",
       " 94,\n",
       " 94,\n",
       " 94,\n",
       " 96,\n",
       " 96,\n",
       " 97,\n",
       " 97,\n",
       " 98,\n",
       " 98,\n",
       " 98,\n",
       " 99,\n",
       " 100,\n",
       " 100,\n",
       " 100,\n",
       " 101,\n",
       " 101,\n",
       " 102,\n",
       " 103,\n",
       " 104,\n",
       " 105,\n",
       " 107,\n",
       " 108,\n",
       " 109,\n",
       " 109,\n",
       " 109,\n",
       " 109,\n",
       " 109,\n",
       " 110,\n",
       " 110,\n",
       " 112,\n",
       " 112,\n",
       " 113,\n",
       " 115,\n",
       " 115,\n",
       " 115,\n",
       " 115,\n",
       " 120,\n",
       " 121,\n",
       " 122,\n",
       " 126,\n",
       " 126,\n",
       " 126,\n",
       " 127,\n",
       " 128,\n",
       " 130,\n",
       " 130,\n",
       " 131,\n",
       " 133,\n",
       " 134,\n",
       " 135,\n",
       " 135,\n",
       " 137,\n",
       " 139,\n",
       " 139,\n",
       " 140,\n",
       " 142,\n",
       " 142,\n",
       " 143,\n",
       " 143,\n",
       " 144,\n",
       " 144,\n",
       " 145,\n",
       " 146,\n",
       " 146,\n",
       " 147,\n",
       " 147,\n",
       " 148,\n",
       " 148,\n",
       " 148,\n",
       " 150,\n",
       " 150,\n",
       " 151,\n",
       " 154,\n",
       " 155,\n",
       " 155,\n",
       " 155,\n",
       " 157,\n",
       " 158,\n",
       " 162,\n",
       " 162,\n",
       " 163,\n",
       " 163,\n",
       " 164,\n",
       " 169,\n",
       " 171,\n",
       " 171,\n",
       " 172,\n",
       " 174,\n",
       " 175,\n",
       " 175,\n",
       " 178,\n",
       " 178,\n",
       " 179,\n",
       " 180,\n",
       " 181,\n",
       " 182,\n",
       " 182,\n",
       " 183,\n",
       " 187,\n",
       " 192,\n",
       " 192,\n",
       " 193,\n",
       " 194,\n",
       " 195,\n",
       " 197,\n",
       " 203,\n",
       " 204,\n",
       " 207,\n",
       " 210,\n",
       " 213,\n",
       " 214,\n",
       " 215,\n",
       " 216,\n",
       " 216,\n",
       " 216,\n",
       " 218,\n",
       " 220,\n",
       " 221,\n",
       " 223,\n",
       " 225,\n",
       " 226,\n",
       " 228,\n",
       " 230,\n",
       " 231,\n",
       " 233,\n",
       " 236,\n",
       " 239,\n",
       " 239,\n",
       " 239,\n",
       " 245,\n",
       " 245,\n",
       " 246,\n",
       " 247,\n",
       " 249,\n",
       " 250,\n",
       " 251,\n",
       " 252,\n",
       " 257,\n",
       " 259,\n",
       " 262,\n",
       " 262,\n",
       " 270,\n",
       " 271,\n",
       " 272,\n",
       " 275,\n",
       " 276,\n",
       " 277,\n",
       " 277,\n",
       " 278,\n",
       " 281,\n",
       " 292,\n",
       " 294,\n",
       " 298,\n",
       " 307,\n",
       " 317,\n",
       " 317,\n",
       " 331,\n",
       " 336,\n",
       " 347,\n",
       " 373,\n",
       " 373,\n",
       " 408,\n",
       " 452]"
      ]
     },
     "execution_count": 64,
     "metadata": {},
     "output_type": "execute_result"
    }
   ],
   "source": [
    "res0"
   ]
  },
  {
   "cell_type": "code",
   "execution_count": 71,
   "id": "366f7023aedb1aba",
   "metadata": {
    "ExecuteTime": {
     "end_time": "2023-12-15T23:17:42.864192Z",
     "start_time": "2023-12-15T23:17:42.826948700Z"
    },
    "collapsed": false,
    "jupyter": {
     "outputs_hidden": false
    }
   },
   "outputs": [],
   "source": [
    "wm_df = res_m['means']\n",
    "wt_df = res_t['means']\n",
    "pm_df = res_m['pvalues']\n",
    "pt_df = res_t['pvalues']"
   ]
  },
  {
   "cell_type": "code",
   "execution_count": 72,
   "id": "43b79d5287e88d2f",
   "metadata": {
    "ExecuteTime": {
     "end_time": "2023-12-15T23:17:44.721858900Z",
     "start_time": "2023-12-15T23:17:44.685657700Z"
    },
    "collapsed": false,
    "jupyter": {
     "outputs_hidden": false
    }
   },
   "outputs": [
    {
     "data": {
      "text/plain": [
       "(1598, 1225)"
      ]
     },
     "execution_count": 72,
     "metadata": {},
     "output_type": "execute_result"
    }
   ],
   "source": [
    "pm_df.shape"
   ]
  },
  {
   "cell_type": "code",
   "execution_count": 73,
   "id": "f112028354266b6f",
   "metadata": {
    "ExecuteTime": {
     "end_time": "2023-12-15T23:17:46.334760100Z",
     "start_time": "2023-12-15T23:17:46.303132100Z"
    },
    "collapsed": false,
    "jupyter": {
     "outputs_hidden": false
    }
   },
   "outputs": [
    {
     "data": {
      "text/plain": [
       "(1637, 1296)"
      ]
     },
     "execution_count": 73,
     "metadata": {},
     "output_type": "execute_result"
    }
   ],
   "source": [
    "pt_df.shape"
   ]
  },
  {
   "cell_type": "code",
   "execution_count": 16,
   "id": "3483159f9b15edc0",
   "metadata": {
    "ExecuteTime": {
     "end_time": "2023-12-15T22:48:15.704583400Z",
     "start_time": "2023-12-15T22:48:15.676044300Z"
    },
    "collapsed": false,
    "jupyter": {
     "outputs_hidden": false
    }
   },
   "outputs": [
    {
     "data": {
      "text/plain": [
       "177"
      ]
     },
     "execution_count": 16,
     "metadata": {},
     "output_type": "execute_result"
    }
   ],
   "source": [
    "sum(np.array(pm_df[cit, cjt].tolist()) < 0.0001)"
   ]
  },
  {
   "cell_type": "code",
   "execution_count": 17,
   "id": "c59e10a1bfb2c749",
   "metadata": {
    "ExecuteTime": {
     "end_time": "2023-12-15T22:48:16.736725400Z",
     "start_time": "2023-12-15T22:48:16.675083400Z"
    },
    "collapsed": false,
    "jupyter": {
     "outputs_hidden": false
    }
   },
   "outputs": [
    {
     "data": {
      "text/plain": [
       "349"
      ]
     },
     "execution_count": 17,
     "metadata": {},
     "output_type": "execute_result"
    }
   ],
   "source": [
    "sum(np.array(pt_df[cit, cjt].tolist()) < 0.0001)"
   ]
  },
  {
   "cell_type": "code",
   "execution_count": 18,
   "id": "ae04d9ba599f928e",
   "metadata": {
    "ExecuteTime": {
     "end_time": "2023-12-15T22:48:16.975928100Z",
     "start_time": "2023-12-15T22:48:16.920699600Z"
    },
    "collapsed": false,
    "jupyter": {
     "outputs_hidden": false
    }
   },
   "outputs": [],
   "source": [
    "idx = np.array(pm_df[cit, cjt].tolist()) < 0.0001\n",
    "jdx = np.array(pt_df[cit, cjt].tolist()) < 0.0001\n",
    "idx2 = np.array(pm_df[cjt, cit].tolist()) < 0.0001\n",
    "jdx2 = np.array(pt_df[cjt, cit].tolist()) < 0.0001"
   ]
  },
  {
   "cell_type": "code",
   "execution_count": 19,
   "id": "bb1c6c7482173e47",
   "metadata": {
    "ExecuteTime": {
     "end_time": "2023-12-15T22:48:18.362926Z",
     "start_time": "2023-12-15T22:48:18.327039200Z"
    },
    "collapsed": false,
    "jupyter": {
     "outputs_hidden": false
    }
   },
   "outputs": [
    {
     "data": {
      "text/plain": [
       "260"
      ]
     },
     "execution_count": 19,
     "metadata": {},
     "output_type": "execute_result"
    }
   ],
   "source": [
    "sum( [ (x or y) for (x,y) in zip(idx, idx2) ] )"
   ]
  },
  {
   "cell_type": "code",
   "execution_count": 20,
   "id": "7f6bf64983949eed",
   "metadata": {
    "ExecuteTime": {
     "end_time": "2023-12-15T22:48:18.580547Z",
     "start_time": "2023-12-15T22:48:18.544974300Z"
    },
    "collapsed": false,
    "jupyter": {
     "outputs_hidden": false
    }
   },
   "outputs": [],
   "source": [
    "#take pairs that are either C_i -> C_j or C_j -> C_i\n",
    "idx = [ (x or y) for (x,y) in zip(idx, idx2) ]\n",
    "jdx = [ (x or y) for (x,y) in zip(jdx, jdx2) ]"
   ]
  },
  {
   "cell_type": "code",
   "execution_count": 21,
   "id": "a8d3b67e1042f2f6",
   "metadata": {
    "ExecuteTime": {
     "end_time": "2023-12-15T22:48:19.470011400Z",
     "start_time": "2023-12-15T22:48:19.439874600Z"
    },
    "collapsed": false,
    "jupyter": {
     "outputs_hidden": false
    }
   },
   "outputs": [
    {
     "data": {
      "text/plain": [
       "0.8214389272627318"
      ]
     },
     "execution_count": 21,
     "metadata": {},
     "output_type": "execute_result"
    }
   ],
   "source": [
    "np.array(wm_df[cit, cjt])[idx].mean()"
   ]
  },
  {
   "cell_type": "code",
   "execution_count": 22,
   "id": "c36d04248676aa74",
   "metadata": {
    "ExecuteTime": {
     "end_time": "2023-12-15T22:48:20.599927300Z",
     "start_time": "2023-12-15T22:48:20.562851100Z"
    },
    "collapsed": false,
    "jupyter": {
     "outputs_hidden": false
    }
   },
   "outputs": [
    {
     "data": {
      "text/plain": [
       "0.5507216321171141"
      ]
     },
     "execution_count": 22,
     "metadata": {},
     "output_type": "execute_result"
    }
   ],
   "source": [
    "np.array(wt_df[cit, cjt])[jdx].mean()"
   ]
  },
  {
   "cell_type": "code",
   "execution_count": 23,
   "id": "3a426a08300b7238",
   "metadata": {
    "ExecuteTime": {
     "end_time": "2023-12-15T22:48:21.254727200Z",
     "start_time": "2023-12-15T22:48:21.221544500Z"
    },
    "collapsed": false,
    "jupyter": {
     "outputs_hidden": false
    }
   },
   "outputs": [],
   "source": [
    "# the metaplasia samples show a higher mean L-R expression for significant linkages"
   ]
  },
  {
   "cell_type": "code",
   "execution_count": 24,
   "id": "ea2b6532cf2cdbff",
   "metadata": {
    "ExecuteTime": {
     "end_time": "2023-12-15T22:48:21.448093900Z",
     "start_time": "2023-12-15T22:48:21.402727Z"
    },
    "collapsed": false,
    "jupyter": {
     "outputs_hidden": false
    },
    "scrolled": true
   },
   "outputs": [
    {
     "data": {
      "text/plain": [
       "array([4.81390194e-01, 4.61085235e-01, 8.74128968e-01, 0.00000000e+00,\n",
       "       7.95426728e-01, 0.00000000e+00, 5.45695611e-01, 5.25390652e-01,\n",
       "       8.59732145e-01, 4.34675207e-01, 7.48711742e-01, 4.64211380e-01,\n",
       "       4.43906421e-01, 8.56950154e-01, 7.78247914e-01, 0.00000000e+00,\n",
       "       1.24553744e-01, 2.95005800e-01, 6.65451992e+00, 1.29320712e+00,\n",
       "       1.08298304e+00, 1.18616144e+00, 1.20962561e+00, 1.14708035e+00,\n",
       "       1.08118994e+00, 2.17854224e+00, 1.47227798e-01, 6.92586737e-01,\n",
       "       8.12875771e-01, 8.07387246e-01, 8.02544830e-01, 0.00000000e+00,\n",
       "       0.00000000e+00, 3.88191040e-01, 0.00000000e+00, 1.18194229e+00,\n",
       "       0.00000000e+00, 7.41452737e-01, 8.93497181e-01, 1.34487864e+00,\n",
       "       5.03929514e-01, 4.93329271e-01, 3.57157886e-01, 3.89871354e-01,\n",
       "       3.79449572e-01, 1.86110167e-01, 1.63678627e-01, 1.64370512e-01,\n",
       "       1.71221588e-01, 1.48790049e-01, 1.49481933e-01, 2.50951260e-01,\n",
       "       2.28519721e-01, 0.00000000e+00, 2.29211606e-01, 1.13777803e+00,\n",
       "       1.04570639e+00, 1.08610019e+00, 1.13808450e-01, 1.24212831e+00,\n",
       "       2.22400387e-01, 1.44113437e+00, 1.04726419e+00, 7.49724490e-02,\n",
       "       1.04497302e+00, 1.04524955e+00, 7.29578085e-02, 1.29225232e+00,\n",
       "       1.29347109e+00, 1.23556789e+00, 0.00000000e+00, 1.31300166e+00,\n",
       "       2.93273737e-01, 9.87758996e-01, 3.63190874e-02, 4.92716875e-03,\n",
       "       6.89529272e-01, 6.85091325e-01, 7.83829161e-01, 6.39483412e-02,\n",
       "       3.82481026e-01, 1.92723065e-01, 2.24566947e-01, 0.00000000e+00,\n",
       "       2.24146993e-02, 3.53845819e-03, 3.79002868e-02, 1.97756665e+00,\n",
       "       7.30498368e-01, 0.00000000e+00, 1.82041307e-02, 1.65641052e-01,\n",
       "       0.00000000e+00, 2.94309738e-01, 1.90843812e-02, 0.00000000e+00,\n",
       "       0.00000000e+00, 0.00000000e+00, 2.91855395e-02, 1.67711661e-01,\n",
       "       3.51774732e-01, 1.68403545e-01, 6.45965781e+00, 5.72620755e-01,\n",
       "       9.23270173e-03, 2.08596506e-01, 3.88005004e-01, 3.25969681e+00,\n",
       "       0.00000000e+00, 8.20757354e-02, 9.66986619e-02, 0.00000000e+00,\n",
       "       0.00000000e+00, 2.89976779e-01, 5.40297225e+00, 0.00000000e+00,\n",
       "       1.08179997e-01, 8.30446579e-02, 0.00000000e+00, 1.88351011e-01,\n",
       "       0.00000000e+00, 0.00000000e+00, 0.00000000e+00, 2.43893802e-01,\n",
       "       1.56917987e-01, 1.03491703e-01, 1.22315214e-01, 0.00000000e+00,\n",
       "       1.28587688e-02, 2.94501224e-01, 2.63319409e-01, 1.68673992e-02,\n",
       "       0.00000000e+00, 0.00000000e+00, 1.33624816e-02, 1.06139147e+00,\n",
       "       1.06351534e+00, 1.88331514e-01, 0.00000000e+00, 1.69298823e-01,\n",
       "       0.00000000e+00, 0.00000000e+00, 1.86113757e-01, 1.84240258e-01,\n",
       "       0.00000000e+00, 0.00000000e+00, 1.53688785e+00, 2.21532914e-01,\n",
       "       1.32452572e+00, 0.00000000e+00, 3.53314088e-01, 3.57819706e-01,\n",
       "       5.54965269e-02, 0.00000000e+00, 0.00000000e+00, 2.48774644e-01,\n",
       "       5.36177011e+00, 0.00000000e+00, 6.69778623e-02, 4.18425230e-02,\n",
       "       0.00000000e+00, 1.47148876e-01, 0.00000000e+00, 0.00000000e+00,\n",
       "       0.00000000e+00, 2.02691667e-01, 1.15715852e-01, 6.22895685e-02,\n",
       "       8.11130795e-02, 0.00000000e+00, 2.56863405e-01, 5.36985887e+00,\n",
       "       7.50666233e-02, 4.04869221e-01, 5.51786469e+00, 2.23072439e-01,\n",
       "       7.10786255e-01, 1.13205146e+00, 8.48961312e+00, 8.48936472e+00,\n",
       "       8.49575054e+00, 8.68940660e+00, 7.69392623e-01, 1.14042572e-02,\n",
       "       1.05701955e+00, 0.00000000e+00, 0.00000000e+00, 0.00000000e+00,\n",
       "       6.58210800e-02, 5.19182697e-02, 0.00000000e+00, 8.69210642e-02,\n",
       "       0.00000000e+00, 1.43115939e-01, 0.00000000e+00, 0.00000000e+00,\n",
       "       0.00000000e+00, 0.00000000e+00, 0.00000000e+00, 0.00000000e+00,\n",
       "       0.00000000e+00, 1.86134128e-01, 4.64261168e+00, 4.65609185e+00,\n",
       "       7.91650563e-01, 5.27292513e-01, 2.45537898e-02, 1.84112646e-02,\n",
       "       0.00000000e+00, 1.97119177e+00, 2.31722848e+00, 2.31608503e+00,\n",
       "       4.47351447e-01, 0.00000000e+00, 3.72228251e-01, 2.57513378e-02,\n",
       "       0.00000000e+00, 2.60173050e-02, 0.00000000e+00, 6.10200995e-02,\n",
       "       0.00000000e+00, 1.17214975e-01, 0.00000000e+00, 0.00000000e+00,\n",
       "       0.00000000e+00, 0.00000000e+00, 0.00000000e+00, 0.00000000e+00,\n",
       "       0.00000000e+00, 3.07956325e+00, 0.00000000e+00, 0.00000000e+00,\n",
       "       1.61602916e+00, 5.36032566e-01, 9.00294589e-02, 0.00000000e+00,\n",
       "       0.00000000e+00, 0.00000000e+00, 2.99079023e-01, 5.13588545e-01,\n",
       "       3.39821829e-01, 1.85587563e-01, 1.74863856e-01, 0.00000000e+00,\n",
       "       0.00000000e+00, 1.65842114e-01, 0.00000000e+00, 7.31995048e-02,\n",
       "       1.70336273e-01, 0.00000000e+00, 0.00000000e+00, 4.51438019e-02,\n",
       "       0.00000000e+00, 0.00000000e+00, 3.72060227e-01, 3.72437859e-01,\n",
       "       3.81542388e-01, 3.71807328e-01, 7.60993165e-02, 7.94424344e-02])"
      ]
     },
     "execution_count": 24,
     "metadata": {},
     "output_type": "execute_result"
    }
   ],
   "source": [
    "np.array(wm_df[cjt, cit])[idx]"
   ]
  },
  {
   "cell_type": "code",
   "execution_count": 25,
   "id": "7767b21678de9f68",
   "metadata": {
    "ExecuteTime": {
     "end_time": "2023-12-15T22:48:22.230962800Z",
     "start_time": "2023-12-15T22:48:22.191676400Z"
    },
    "collapsed": false,
    "jupyter": {
     "outputs_hidden": false
    },
    "scrolled": true
   },
   "outputs": [
    {
     "data": {
      "text/plain": [
       "array([0.48147106, 0.48796566, 0.86502341, 0.48671034, 0.71017932,\n",
       "       0.47483563, 0.02595093, 0.03244553, 0.25465918, 0.        ,\n",
       "       0.        , 1.42791099, 1.43440559, 1.81146334, 1.65661925,\n",
       "       1.42127556, 0.50653383, 0.05381904, 0.04769874, 1.49736533,\n",
       "       0.24399865, 1.17348404, 0.56547282, 0.37988477, 0.2685623 ,\n",
       "       0.        , 0.        , 0.43483918, 0.34135811, 0.3292311 ,\n",
       "       0.3502502 , 0.17580321, 0.97303528, 1.17590049, 1.18194229,\n",
       "       0.        , 4.69222515, 0.05033884, 0.05674758, 0.63293815,\n",
       "       0.02400434, 0.        , 0.01161764, 0.05065592, 0.02969711,\n",
       "       5.62448381, 6.69645008, 5.59681459, 2.18773054, 3.25969681,\n",
       "       2.16006131, 2.27358263, 3.3455489 , 2.2267554 , 2.24591341,\n",
       "       0.48300316, 0.        , 0.70909185, 0.683249  , 0.8234878 ,\n",
       "       0.41050117, 0.65550422, 0.49432482, 0.46848196, 0.        ,\n",
       "       0.50698902, 0.48114617, 0.        , 0.        , 0.        ,\n",
       "       0.39690106, 0.9906781 , 0.57769147, 0.78972473, 0.74642995,\n",
       "       0.75291953, 0.20196599, 0.24656428, 0.28733907, 0.66891114,\n",
       "       0.07300812, 3.56507578, 0.4901344 , 1.91447175, 0.8707636 ,\n",
       "       0.88815068, 0.21777508, 0.04268718, 0.        , 0.32890057,\n",
       "       0.371566  , 0.02304032, 0.10948293, 0.00880419, 0.        ,\n",
       "       0.06857376, 0.06846577, 0.06824111, 0.71714548, 1.73922465,\n",
       "       0.68885577, 0.63958916, 0.07857308, 0.02123057, 2.13631904,\n",
       "       2.13640814, 0.07587821, 0.14879005, 0.85204211, 1.81208577,\n",
       "       1.81703428, 1.81177222, 1.81149929, 1.80988862, 1.8225629 ,\n",
       "       1.9456907 , 2.34633521, 1.81861834, 1.811556  , 1.80902159,\n",
       "       1.8091691 , 1.81841323, 1.80881316, 2.18373123, 1.87910695,\n",
       "       1.82472566, 1.81812071, 1.81044064, 0.33235638, 0.30900779,\n",
       "       0.30782973, 0.49298987, 0.27909243, 0.28366912, 0.29906445,\n",
       "       0.08087759, 0.11591824, 0.20681658, 0.41105949, 0.571503  ,\n",
       "       0.4187738 , 0.40728022, 0.4085106 , 0.49161812, 0.40775433,\n",
       "       0.4164469 , 0.04468287, 0.20432183, 0.        , 1.08285632,\n",
       "       4.74301483, 2.58484726, 0.55426466, 0.54900259, 0.54872966,\n",
       "       0.54711899, 0.55979327, 0.68292108, 1.08356559, 0.55584871,\n",
       "       0.54878637, 0.54625197, 0.54639947, 0.5556436 , 0.54604353,\n",
       "       0.92096161, 0.61633732, 0.56195603, 0.55535108, 0.54767101,\n",
       "       0.11672813, 0.12940241, 0.65317473, 0.40715274, 0.41982702,\n",
       "       0.94359934, 0.45616127, 0.20599477, 0.        , 0.        ,\n",
       "       1.17555012, 1.68474091, 0.84209802, 0.23163509, 0.        ,\n",
       "       1.91296566, 1.89031406, 0.36991422, 0.40535918, 0.41886059,\n",
       "       0.42345059, 0.41697078, 0.4010497 , 0.4239692 , 0.41593828,\n",
       "       0.40115361, 0.40260957, 0.40063992, 0.40076511, 0.41065668,\n",
       "       0.40915128, 4.65609185, 0.18351416, 0.18613413, 0.04336043,\n",
       "       1.12943168, 1.04616662, 0.77891661, 2.17854224, 0.24339907,\n",
       "       0.        , 0.41442925, 0.        , 0.44735145, 0.        ,\n",
       "       2.14522213, 6.44826375, 0.94331837, 0.94790837, 0.94142857,\n",
       "       0.92550748, 0.94842698, 0.94039607, 0.92561139, 0.92706735,\n",
       "       0.92509771, 0.92522289, 0.93511446, 0.93360906, 0.        ,\n",
       "       0.82461267, 0.9096038 , 3.87983567, 0.05910669, 0.37427181,\n",
       "       0.095368  , 0.17276976, 1.99060081, 0.0277219 , 0.        ,\n",
       "       0.        , 0.        , 0.2962378 , 0.42180642, 0.42326545,\n",
       "       0.44962197, 0.42697197, 0.23653518, 0.04238918, 0.18999803,\n",
       "       0.1961677 , 0.19196819, 0.19303123, 0.20411028, 0.        ,\n",
       "       0.04206592, 0.04011318, 0.04131751, 0.15377554, 0.15250616])"
      ]
     },
     "execution_count": 25,
     "metadata": {},
     "output_type": "execute_result"
    }
   ],
   "source": [
    "np.array(wm_df[cit, cjt])[idx]"
   ]
  },
  {
   "cell_type": "code",
   "execution_count": 26,
   "id": "320d28f762def24e",
   "metadata": {
    "ExecuteTime": {
     "end_time": "2023-12-15T22:48:24.671192200Z",
     "start_time": "2023-12-15T22:48:24.606434300Z"
    },
    "collapsed": false,
    "jupyter": {
     "outputs_hidden": false
    }
   },
   "outputs": [],
   "source": [
    "import pandas as pd\n",
    "df = pd.DataFrame({\n",
    "    'tissue':(['metaplasia' for xi in np.where(idx)[0]]+['carcinoma' for xi in np.where(jdx)[0]]+\n",
    "              ['metaplasia' for xi in np.where(idx)[0]]+['carcinoma' for xi in np.where(jdx)[0]]),\n",
    "    'weights':(np.array(wm_df[cit, cjt])[idx].tolist()+np.array(wt_df[cit, cjt])[jdx].tolist()+\n",
    "               np.array(wm_df[cjt, cit])[idx].tolist()+np.array(wt_df[cjt, cit])[jdx].tolist()),\n",
    "                   })"
   ]
  },
  {
   "cell_type": "code",
   "execution_count": 27,
   "id": "8af288020f6b6f4a",
   "metadata": {
    "ExecuteTime": {
     "end_time": "2023-12-15T22:48:29.085195500Z",
     "start_time": "2023-12-15T22:48:29.038931800Z"
    },
    "collapsed": false,
    "jupyter": {
     "outputs_hidden": false
    }
   },
   "outputs": [
    {
     "data": {
      "text/html": [
       "<div>\n",
       "<style scoped>\n",
       "    .dataframe tbody tr th:only-of-type {\n",
       "        vertical-align: middle;\n",
       "    }\n",
       "\n",
       "    .dataframe tbody tr th {\n",
       "        vertical-align: top;\n",
       "    }\n",
       "\n",
       "    .dataframe thead th {\n",
       "        text-align: right;\n",
       "    }\n",
       "</style>\n",
       "<table border=\"1\" class=\"dataframe\">\n",
       "  <thead>\n",
       "    <tr style=\"text-align: right;\">\n",
       "      <th></th>\n",
       "      <th>tissue</th>\n",
       "      <th>weights</th>\n",
       "    </tr>\n",
       "  </thead>\n",
       "  <tbody>\n",
       "    <tr>\n",
       "      <th>0</th>\n",
       "      <td>metaplasia</td>\n",
       "      <td>0.481471</td>\n",
       "    </tr>\n",
       "    <tr>\n",
       "      <th>1</th>\n",
       "      <td>metaplasia</td>\n",
       "      <td>0.487966</td>\n",
       "    </tr>\n",
       "    <tr>\n",
       "      <th>2</th>\n",
       "      <td>metaplasia</td>\n",
       "      <td>0.865023</td>\n",
       "    </tr>\n",
       "    <tr>\n",
       "      <th>3</th>\n",
       "      <td>metaplasia</td>\n",
       "      <td>0.486710</td>\n",
       "    </tr>\n",
       "    <tr>\n",
       "      <th>4</th>\n",
       "      <td>metaplasia</td>\n",
       "      <td>0.710179</td>\n",
       "    </tr>\n",
       "    <tr>\n",
       "      <th>...</th>\n",
       "      <td>...</td>\n",
       "      <td>...</td>\n",
       "    </tr>\n",
       "    <tr>\n",
       "      <th>1595</th>\n",
       "      <td>carcinoma</td>\n",
       "      <td>0.095556</td>\n",
       "    </tr>\n",
       "    <tr>\n",
       "      <th>1596</th>\n",
       "      <td>carcinoma</td>\n",
       "      <td>0.000000</td>\n",
       "    </tr>\n",
       "    <tr>\n",
       "      <th>1597</th>\n",
       "      <td>carcinoma</td>\n",
       "      <td>0.006675</td>\n",
       "    </tr>\n",
       "    <tr>\n",
       "      <th>1598</th>\n",
       "      <td>carcinoma</td>\n",
       "      <td>0.000000</td>\n",
       "    </tr>\n",
       "    <tr>\n",
       "      <th>1599</th>\n",
       "      <td>carcinoma</td>\n",
       "      <td>0.000000</td>\n",
       "    </tr>\n",
       "  </tbody>\n",
       "</table>\n",
       "<p>1600 rows × 2 columns</p>\n",
       "</div>"
      ],
      "text/plain": [
       "          tissue   weights\n",
       "0     metaplasia  0.481471\n",
       "1     metaplasia  0.487966\n",
       "2     metaplasia  0.865023\n",
       "3     metaplasia  0.486710\n",
       "4     metaplasia  0.710179\n",
       "...          ...       ...\n",
       "1595   carcinoma  0.095556\n",
       "1596   carcinoma  0.000000\n",
       "1597   carcinoma  0.006675\n",
       "1598   carcinoma  0.000000\n",
       "1599   carcinoma  0.000000\n",
       "\n",
       "[1600 rows x 2 columns]"
      ]
     },
     "execution_count": 27,
     "metadata": {},
     "output_type": "execute_result"
    }
   ],
   "source": [
    "df"
   ]
  },
  {
   "cell_type": "code",
   "execution_count": 28,
   "id": "835222de8159a4bf",
   "metadata": {
    "ExecuteTime": {
     "end_time": "2023-12-15T22:48:29.411347700Z",
     "start_time": "2023-12-15T22:48:29.383046400Z"
    },
    "collapsed": false,
    "jupyter": {
     "outputs_hidden": false
    }
   },
   "outputs": [
    {
     "data": {
      "text/plain": [
       "0.5800001328700399"
      ]
     },
     "execution_count": 28,
     "metadata": {},
     "output_type": "execute_result"
    }
   ],
   "source": [
    "df['weights'].mean()"
   ]
  },
  {
   "cell_type": "code",
   "execution_count": 29,
   "id": "4d4ef43df6b17cf9",
   "metadata": {
    "ExecuteTime": {
     "end_time": "2023-12-15T22:48:32.976204800Z",
     "start_time": "2023-12-15T22:48:32.931497400Z"
    },
    "collapsed": false,
    "jupyter": {
     "outputs_hidden": false
    }
   },
   "outputs": [
    {
     "name": "stderr",
     "output_type": "stream",
     "text": [
      "C:\\Users\\daveg\\DataspellProjects\\CRUK_Atlas_Derived_Data\\env\\lib\\site-packages\\pandas\\core\\arraylike.py:396: RuntimeWarning: divide by zero encountered in log\n",
      "  result = getattr(ufunc, method)(*inputs, **kwargs)\n"
     ]
    }
   ],
   "source": [
    "df[\"weights_z\"] = (df[\"weights\"] - df[\"weights\"].mean()) / df[\"weights\"].std()\n",
    "\n",
    "df[\"weights_log\"] = np.log(df[\"weights\"])"
   ]
  },
  {
   "cell_type": "code",
   "execution_count": 30,
   "id": "98fe1ec4037ab031",
   "metadata": {
    "ExecuteTime": {
     "end_time": "2023-12-15T22:48:35.291284600Z",
     "start_time": "2023-12-15T22:48:35.254183400Z"
    },
    "collapsed": false,
    "jupyter": {
     "outputs_hidden": false
    }
   },
   "outputs": [
    {
     "data": {
      "text/html": [
       "<div>\n",
       "<style scoped>\n",
       "    .dataframe tbody tr th:only-of-type {\n",
       "        vertical-align: middle;\n",
       "    }\n",
       "\n",
       "    .dataframe tbody tr th {\n",
       "        vertical-align: top;\n",
       "    }\n",
       "\n",
       "    .dataframe thead th {\n",
       "        text-align: right;\n",
       "    }\n",
       "</style>\n",
       "<table border=\"1\" class=\"dataframe\">\n",
       "  <thead>\n",
       "    <tr style=\"text-align: right;\">\n",
       "      <th></th>\n",
       "      <th>tissue</th>\n",
       "      <th>weights</th>\n",
       "      <th>weights_z</th>\n",
       "      <th>weights_log</th>\n",
       "    </tr>\n",
       "  </thead>\n",
       "  <tbody>\n",
       "    <tr>\n",
       "      <th>0</th>\n",
       "      <td>metaplasia</td>\n",
       "      <td>0.481471</td>\n",
       "      <td>-0.086003</td>\n",
       "      <td>-0.730909</td>\n",
       "    </tr>\n",
       "    <tr>\n",
       "      <th>1</th>\n",
       "      <td>metaplasia</td>\n",
       "      <td>0.487966</td>\n",
       "      <td>-0.080334</td>\n",
       "      <td>-0.717510</td>\n",
       "    </tr>\n",
       "    <tr>\n",
       "      <th>2</th>\n",
       "      <td>metaplasia</td>\n",
       "      <td>0.865023</td>\n",
       "      <td>0.248787</td>\n",
       "      <td>-0.144999</td>\n",
       "    </tr>\n",
       "    <tr>\n",
       "      <th>3</th>\n",
       "      <td>metaplasia</td>\n",
       "      <td>0.486710</td>\n",
       "      <td>-0.081429</td>\n",
       "      <td>-0.720086</td>\n",
       "    </tr>\n",
       "    <tr>\n",
       "      <th>4</th>\n",
       "      <td>metaplasia</td>\n",
       "      <td>0.710179</td>\n",
       "      <td>0.113629</td>\n",
       "      <td>-0.342238</td>\n",
       "    </tr>\n",
       "    <tr>\n",
       "      <th>...</th>\n",
       "      <td>...</td>\n",
       "      <td>...</td>\n",
       "      <td>...</td>\n",
       "      <td>...</td>\n",
       "    </tr>\n",
       "    <tr>\n",
       "      <th>1595</th>\n",
       "      <td>carcinoma</td>\n",
       "      <td>0.095556</td>\n",
       "      <td>-0.422855</td>\n",
       "      <td>-2.348040</td>\n",
       "    </tr>\n",
       "    <tr>\n",
       "      <th>1596</th>\n",
       "      <td>carcinoma</td>\n",
       "      <td>0.000000</td>\n",
       "      <td>-0.506262</td>\n",
       "      <td>-inf</td>\n",
       "    </tr>\n",
       "    <tr>\n",
       "      <th>1597</th>\n",
       "      <td>carcinoma</td>\n",
       "      <td>0.006675</td>\n",
       "      <td>-0.500436</td>\n",
       "      <td>-5.009345</td>\n",
       "    </tr>\n",
       "    <tr>\n",
       "      <th>1598</th>\n",
       "      <td>carcinoma</td>\n",
       "      <td>0.000000</td>\n",
       "      <td>-0.506262</td>\n",
       "      <td>-inf</td>\n",
       "    </tr>\n",
       "    <tr>\n",
       "      <th>1599</th>\n",
       "      <td>carcinoma</td>\n",
       "      <td>0.000000</td>\n",
       "      <td>-0.506262</td>\n",
       "      <td>-inf</td>\n",
       "    </tr>\n",
       "  </tbody>\n",
       "</table>\n",
       "<p>1600 rows × 4 columns</p>\n",
       "</div>"
      ],
      "text/plain": [
       "          tissue   weights  weights_z  weights_log\n",
       "0     metaplasia  0.481471  -0.086003    -0.730909\n",
       "1     metaplasia  0.487966  -0.080334    -0.717510\n",
       "2     metaplasia  0.865023   0.248787    -0.144999\n",
       "3     metaplasia  0.486710  -0.081429    -0.720086\n",
       "4     metaplasia  0.710179   0.113629    -0.342238\n",
       "...          ...       ...        ...          ...\n",
       "1595   carcinoma  0.095556  -0.422855    -2.348040\n",
       "1596   carcinoma  0.000000  -0.506262         -inf\n",
       "1597   carcinoma  0.006675  -0.500436    -5.009345\n",
       "1598   carcinoma  0.000000  -0.506262         -inf\n",
       "1599   carcinoma  0.000000  -0.506262         -inf\n",
       "\n",
       "[1600 rows x 4 columns]"
      ]
     },
     "execution_count": 30,
     "metadata": {},
     "output_type": "execute_result"
    }
   ],
   "source": [
    "df"
   ]
  },
  {
   "cell_type": "code",
   "execution_count": 31,
   "id": "5147c0c0d920e61",
   "metadata": {
    "ExecuteTime": {
     "end_time": "2023-12-15T22:48:37.985321100Z",
     "start_time": "2023-12-15T22:48:37.948237300Z"
    },
    "collapsed": false,
    "jupyter": {
     "outputs_hidden": false
    }
   },
   "outputs": [
    {
     "data": {
      "text/plain": [
       "tissue\n",
       "carcinoma     1080\n",
       "metaplasia     520\n",
       "Name: count, dtype: int64"
      ]
     },
     "execution_count": 31,
     "metadata": {},
     "output_type": "execute_result"
    }
   ],
   "source": [
    "df.tissue.value_counts()"
   ]
  },
  {
   "cell_type": "code",
   "execution_count": 32,
   "id": "8b59f46e710d3430",
   "metadata": {
    "ExecuteTime": {
     "end_time": "2023-12-15T22:48:39.389589300Z",
     "start_time": "2023-12-15T22:48:39.348977900Z"
    },
    "collapsed": false,
    "jupyter": {
     "outputs_hidden": false
    }
   },
   "outputs": [],
   "source": [
    "import seaborn as sns\n",
    "import matplotlib.pyplot as plt"
   ]
  },
  {
   "cell_type": "code",
   "execution_count": 77,
   "id": "5a4fe1eacb602ed2",
   "metadata": {
    "ExecuteTime": {
     "end_time": "2023-12-09T23:19:30.201890200Z",
     "start_time": "2023-12-09T23:19:30.046020500Z"
    },
    "collapsed": false,
    "jupyter": {
     "outputs_hidden": false
    }
   },
   "outputs": [
    {
     "data": {
      "image/png": "[encoded data removed]",
      "text/plain": [
       "<Figure size 640x480 with 1 Axes>"
      ]
     },
     "metadata": {},
     "output_type": "display_data"
    }
   ],
   "source": [
    "sns.boxplot(data=df, y=\"weights_log\",x=\"tissue\")\n",
    "plt.savefig('results/figs/fov_cap_endo_log_weights_boxplot.pdf')"
   ]
  },
  {
   "cell_type": "code",
   "execution_count": 90,
   "id": "bf416645f3498722",
   "metadata": {
    "ExecuteTime": {
     "end_time": "2023-12-09T00:43:30.360936700Z",
     "start_time": "2023-12-09T00:43:30.167968300Z"
    },
    "collapsed": false,
    "jupyter": {
     "outputs_hidden": false
    }
   },
   "outputs": [
    {
     "name": "stderr",
     "output_type": "stream",
     "text": [
      "C:\\Users\\daveg\\DataspellProjects\\CRUK_Atlas_Derived_Data\\env\\lib\\site-packages\\seaborn\\_oldcore.py:1119: FutureWarning: use_inf_as_na option is deprecated and will be removed in a future version. Convert inf values to NaN before operating instead.\n",
      "  with pd.option_context('mode.use_inf_as_na', True):\n",
      "C:\\Users\\daveg\\DataspellProjects\\CRUK_Atlas_Derived_Data\\env\\lib\\site-packages\\seaborn\\_oldcore.py:1119: FutureWarning: use_inf_as_na option is deprecated and will be removed in a future version. Convert inf values to NaN before operating instead.\n",
      "  with pd.option_context('mode.use_inf_as_na', True):\n",
      "C:\\Users\\daveg\\DataspellProjects\\CRUK_Atlas_Derived_Data\\env\\lib\\site-packages\\seaborn\\axisgrid.py:118: UserWarning: The figure layout has changed to tight\n",
      "  self._figure.tight_layout(*args, **kwargs)\n"
     ]
    },
    {
     "data": {
      "text/plain": [
       "<seaborn.axisgrid.FacetGrid at 0x2c3cbbd0a00>"
      ]
     },
     "execution_count": 90,
     "metadata": {},
     "output_type": "execute_result"
    },
    {
     "data": {
      "image/png": "[encoded data removed]",
      "text/plain": [
       "<Figure size 500x500 with 1 Axes>"
      ]
     },
     "metadata": {},
     "output_type": "display_data"
    }
   ],
   "source": [
    "sns.displot(data=df, y=\"weights_log\",x=\"tissue\")"
   ]
  },
  {
   "cell_type": "code",
   "execution_count": 54,
   "id": "dfedb17a7f8b9955",
   "metadata": {
    "ExecuteTime": {
     "end_time": "2023-12-15T23:07:42.702416700Z",
     "start_time": "2023-12-15T23:07:42.629663400Z"
    },
    "collapsed": false,
    "jupyter": {
     "outputs_hidden": false
    }
   },
   "outputs": [
    {
     "data": {
      "text/html": [
       "<div>\n",
       "<style scoped>\n",
       "    .dataframe tbody tr th:only-of-type {\n",
       "        vertical-align: middle;\n",
       "    }\n",
       "\n",
       "    .dataframe tbody tr th {\n",
       "        vertical-align: top;\n",
       "    }\n",
       "\n",
       "    .dataframe thead th {\n",
       "        text-align: right;\n",
       "    }\n",
       "</style>\n",
       "<table border=\"1\" class=\"dataframe\">\n",
       "  <thead>\n",
       "    <tr style=\"text-align: right;\">\n",
       "      <th></th>\n",
       "      <th>tissue</th>\n",
       "      <th>weights</th>\n",
       "      <th>weights_z</th>\n",
       "      <th>weights_log</th>\n",
       "    </tr>\n",
       "  </thead>\n",
       "  <tbody>\n",
       "    <tr>\n",
       "      <th>0</th>\n",
       "      <td>metaplasia</td>\n",
       "      <td>0.481471</td>\n",
       "      <td>-0.086003</td>\n",
       "      <td>-0.730909</td>\n",
       "    </tr>\n",
       "    <tr>\n",
       "      <th>1</th>\n",
       "      <td>metaplasia</td>\n",
       "      <td>0.487966</td>\n",
       "      <td>-0.080334</td>\n",
       "      <td>-0.717510</td>\n",
       "    </tr>\n",
       "    <tr>\n",
       "      <th>2</th>\n",
       "      <td>metaplasia</td>\n",
       "      <td>0.865023</td>\n",
       "      <td>0.248787</td>\n",
       "      <td>-0.144999</td>\n",
       "    </tr>\n",
       "    <tr>\n",
       "      <th>3</th>\n",
       "      <td>metaplasia</td>\n",
       "      <td>0.486710</td>\n",
       "      <td>-0.081429</td>\n",
       "      <td>-0.720086</td>\n",
       "    </tr>\n",
       "    <tr>\n",
       "      <th>4</th>\n",
       "      <td>metaplasia</td>\n",
       "      <td>0.710179</td>\n",
       "      <td>0.113629</td>\n",
       "      <td>-0.342238</td>\n",
       "    </tr>\n",
       "    <tr>\n",
       "      <th>...</th>\n",
       "      <td>...</td>\n",
       "      <td>...</td>\n",
       "      <td>...</td>\n",
       "      <td>...</td>\n",
       "    </tr>\n",
       "    <tr>\n",
       "      <th>1055</th>\n",
       "      <td>metaplasia</td>\n",
       "      <td>0.372438</td>\n",
       "      <td>-0.181174</td>\n",
       "      <td>-0.987685</td>\n",
       "    </tr>\n",
       "    <tr>\n",
       "      <th>1056</th>\n",
       "      <td>metaplasia</td>\n",
       "      <td>0.381542</td>\n",
       "      <td>-0.173227</td>\n",
       "      <td>-0.963533</td>\n",
       "    </tr>\n",
       "    <tr>\n",
       "      <th>1057</th>\n",
       "      <td>metaplasia</td>\n",
       "      <td>0.371807</td>\n",
       "      <td>-0.181724</td>\n",
       "      <td>-0.989379</td>\n",
       "    </tr>\n",
       "    <tr>\n",
       "      <th>1058</th>\n",
       "      <td>metaplasia</td>\n",
       "      <td>0.076099</td>\n",
       "      <td>-0.439838</td>\n",
       "      <td>-2.575716</td>\n",
       "    </tr>\n",
       "    <tr>\n",
       "      <th>1059</th>\n",
       "      <td>metaplasia</td>\n",
       "      <td>0.079442</td>\n",
       "      <td>-0.436920</td>\n",
       "      <td>-2.532723</td>\n",
       "    </tr>\n",
       "  </tbody>\n",
       "</table>\n",
       "<p>419 rows × 4 columns</p>\n",
       "</div>"
      ],
      "text/plain": [
       "          tissue   weights  weights_z  weights_log\n",
       "0     metaplasia  0.481471  -0.086003    -0.730909\n",
       "1     metaplasia  0.487966  -0.080334    -0.717510\n",
       "2     metaplasia  0.865023   0.248787    -0.144999\n",
       "3     metaplasia  0.486710  -0.081429    -0.720086\n",
       "4     metaplasia  0.710179   0.113629    -0.342238\n",
       "...          ...       ...        ...          ...\n",
       "1055  metaplasia  0.372438  -0.181174    -0.987685\n",
       "1056  metaplasia  0.381542  -0.173227    -0.963533\n",
       "1057  metaplasia  0.371807  -0.181724    -0.989379\n",
       "1058  metaplasia  0.076099  -0.439838    -2.575716\n",
       "1059  metaplasia  0.079442  -0.436920    -2.532723\n",
       "\n",
       "[419 rows x 4 columns]"
      ]
     },
     "execution_count": 54,
     "metadata": {},
     "output_type": "execute_result"
    }
   ],
   "source": [
    "df[df.tissue == 'metaplasia']"
   ]
  },
  {
   "cell_type": "code",
   "execution_count": 61,
   "id": "3a6e660cd3c88568",
   "metadata": {
    "ExecuteTime": {
     "end_time": "2023-12-15T23:12:18.458754800Z",
     "start_time": "2023-12-15T23:12:17.871512800Z"
    },
    "collapsed": false,
    "jupyter": {
     "outputs_hidden": false
    }
   },
   "outputs": [
    {
     "name": "stderr",
     "output_type": "stream",
     "text": [
      "C:\\Users\\daveg\\DataspellProjects\\CRUK_Atlas_Derived_Data\\env\\lib\\site-packages\\seaborn\\_oldcore.py:1119: FutureWarning: use_inf_as_na option is deprecated and will be removed in a future version. Convert inf values to NaN before operating instead.\n",
      "  with pd.option_context('mode.use_inf_as_na', True):\n",
      "C:\\Users\\daveg\\DataspellProjects\\CRUK_Atlas_Derived_Data\\env\\lib\\site-packages\\seaborn\\axisgrid.py:118: UserWarning: The figure layout has changed to tight\n",
      "  self._figure.tight_layout(*args, **kwargs)\n"
     ]
    },
    {
     "data": {
      "image/png": "[encoded data removed]",
      "text/plain": [
       "<Figure size 617.125x500 with 1 Axes>"
      ]
     },
     "metadata": {},
     "output_type": "display_data"
    }
   ],
   "source": [
    "def specs(x,y, **kwargs):\n",
    "    \n",
    "    plt.axvline(x.mean(), c='k', ls='-', lw=2.5)\n",
    "    plt.axvline(x.median(), c='orange', ls='--', lw=2.5)\n",
    "\n",
    "g = sns.displot(data=df, x=\"weights_log\",hue=\"tissue\")\n",
    "plt.axvline(x=df[df.tissue == 'metaplasia'].weights_log.mean(), linewidth=3, color='#1f77b4', label=\"mean\", alpha=0.9, ls='-', lw=2.5)\n",
    "plt.axvline(x=df[df.tissue == 'metaplasia'].weights_log.median(), linewidth=3, color='#1f77b4', label=\"median\", alpha=0.5, ls='-', lw=2.5)\n",
    "plt.axvline(x=df[df.tissue == 'carcinoma'].weights_log.mean(), linewidth=3, color='orange', label=\"mean\", alpha=0.9, ls='-', lw=2.5)\n",
    "plt.axvline(x=df[df.tissue == 'carcinoma'].weights_log.median(), linewidth=3, color='orange', label=\"median\", alpha=0.5, ls='-', lw=2.5)\n",
    "\n",
    "#g.map(specs,'weights_log','tissue')\n",
    "plt.savefig('results/figs/fov_cap_endo_log_weights_displot.pdf')"
   ]
  },
  {
   "cell_type": "code",
   "execution_count": 42,
   "id": "2ed6c785e2ecaf11",
   "metadata": {
    "ExecuteTime": {
     "end_time": "2023-12-15T22:55:37.445911800Z",
     "start_time": "2023-12-15T22:55:37.406501800Z"
    },
    "collapsed": false,
    "jupyter": {
     "outputs_hidden": false
    }
   },
   "outputs": [],
   "source": [
    "from scipy.stats import ttest_ind"
   ]
  },
  {
   "cell_type": "code",
   "execution_count": 39,
   "id": "1d653b6bad4355e",
   "metadata": {
    "ExecuteTime": {
     "end_time": "2023-12-15T22:55:29.649384700Z",
     "start_time": "2023-12-15T22:55:29.599833800Z"
    },
    "collapsed": false,
    "jupyter": {
     "outputs_hidden": false
    }
   },
   "outputs": [],
   "source": [
    "df.replace([np.inf, -np.inf], np.nan, inplace=True)\n",
    "df.dropna(axis=0, how=\"any\", inplace=True)"
   ]
  },
  {
   "cell_type": "code",
   "execution_count": 40,
   "id": "dd1da3d6a2297590",
   "metadata": {
    "ExecuteTime": {
     "end_time": "2023-12-15T22:55:31.470848600Z",
     "start_time": "2023-12-15T22:55:31.426923700Z"
    },
    "collapsed": false,
    "jupyter": {
     "outputs_hidden": false
    }
   },
   "outputs": [
    {
     "data": {
      "text/html": [
       "<div>\n",
       "<style scoped>\n",
       "    .dataframe tbody tr th:only-of-type {\n",
       "        vertical-align: middle;\n",
       "    }\n",
       "\n",
       "    .dataframe tbody tr th {\n",
       "        vertical-align: top;\n",
       "    }\n",
       "\n",
       "    .dataframe thead th {\n",
       "        text-align: right;\n",
       "    }\n",
       "</style>\n",
       "<table border=\"1\" class=\"dataframe\">\n",
       "  <thead>\n",
       "    <tr style=\"text-align: right;\">\n",
       "      <th></th>\n",
       "      <th>tissue</th>\n",
       "      <th>weights</th>\n",
       "      <th>weights_z</th>\n",
       "      <th>weights_log</th>\n",
       "    </tr>\n",
       "  </thead>\n",
       "  <tbody>\n",
       "    <tr>\n",
       "      <th>0</th>\n",
       "      <td>metaplasia</td>\n",
       "      <td>0.481471</td>\n",
       "      <td>-0.086003</td>\n",
       "      <td>-0.730909</td>\n",
       "    </tr>\n",
       "    <tr>\n",
       "      <th>1</th>\n",
       "      <td>metaplasia</td>\n",
       "      <td>0.487966</td>\n",
       "      <td>-0.080334</td>\n",
       "      <td>-0.717510</td>\n",
       "    </tr>\n",
       "    <tr>\n",
       "      <th>2</th>\n",
       "      <td>metaplasia</td>\n",
       "      <td>0.865023</td>\n",
       "      <td>0.248787</td>\n",
       "      <td>-0.144999</td>\n",
       "    </tr>\n",
       "    <tr>\n",
       "      <th>3</th>\n",
       "      <td>metaplasia</td>\n",
       "      <td>0.486710</td>\n",
       "      <td>-0.081429</td>\n",
       "      <td>-0.720086</td>\n",
       "    </tr>\n",
       "    <tr>\n",
       "      <th>4</th>\n",
       "      <td>metaplasia</td>\n",
       "      <td>0.710179</td>\n",
       "      <td>0.113629</td>\n",
       "      <td>-0.342238</td>\n",
       "    </tr>\n",
       "    <tr>\n",
       "      <th>...</th>\n",
       "      <td>...</td>\n",
       "      <td>...</td>\n",
       "      <td>...</td>\n",
       "      <td>...</td>\n",
       "    </tr>\n",
       "    <tr>\n",
       "      <th>1591</th>\n",
       "      <td>carcinoma</td>\n",
       "      <td>0.008045</td>\n",
       "      <td>-0.499240</td>\n",
       "      <td>-4.822742</td>\n",
       "    </tr>\n",
       "    <tr>\n",
       "      <th>1592</th>\n",
       "      <td>carcinoma</td>\n",
       "      <td>0.046555</td>\n",
       "      <td>-0.465626</td>\n",
       "      <td>-3.067117</td>\n",
       "    </tr>\n",
       "    <tr>\n",
       "      <th>1594</th>\n",
       "      <td>carcinoma</td>\n",
       "      <td>0.013849</td>\n",
       "      <td>-0.494174</td>\n",
       "      <td>-4.279517</td>\n",
       "    </tr>\n",
       "    <tr>\n",
       "      <th>1595</th>\n",
       "      <td>carcinoma</td>\n",
       "      <td>0.095556</td>\n",
       "      <td>-0.422855</td>\n",
       "      <td>-2.348040</td>\n",
       "    </tr>\n",
       "    <tr>\n",
       "      <th>1597</th>\n",
       "      <td>carcinoma</td>\n",
       "      <td>0.006675</td>\n",
       "      <td>-0.500436</td>\n",
       "      <td>-5.009345</td>\n",
       "    </tr>\n",
       "  </tbody>\n",
       "</table>\n",
       "<p>1438 rows × 4 columns</p>\n",
       "</div>"
      ],
      "text/plain": [
       "          tissue   weights  weights_z  weights_log\n",
       "0     metaplasia  0.481471  -0.086003    -0.730909\n",
       "1     metaplasia  0.487966  -0.080334    -0.717510\n",
       "2     metaplasia  0.865023   0.248787    -0.144999\n",
       "3     metaplasia  0.486710  -0.081429    -0.720086\n",
       "4     metaplasia  0.710179   0.113629    -0.342238\n",
       "...          ...       ...        ...          ...\n",
       "1591   carcinoma  0.008045  -0.499240    -4.822742\n",
       "1592   carcinoma  0.046555  -0.465626    -3.067117\n",
       "1594   carcinoma  0.013849  -0.494174    -4.279517\n",
       "1595   carcinoma  0.095556  -0.422855    -2.348040\n",
       "1597   carcinoma  0.006675  -0.500436    -5.009345\n",
       "\n",
       "[1438 rows x 4 columns]"
      ]
     },
     "execution_count": 40,
     "metadata": {},
     "output_type": "execute_result"
    }
   ],
   "source": [
    "df"
   ]
  },
  {
   "cell_type": "code",
   "execution_count": 43,
   "id": "fead08086e1db03f",
   "metadata": {
    "ExecuteTime": {
     "end_time": "2023-12-15T22:55:39.415918800Z",
     "start_time": "2023-12-15T22:55:39.375187900Z"
    },
    "collapsed": false,
    "jupyter": {
     "outputs_hidden": false
    }
   },
   "outputs": [
    {
     "data": {
      "text/plain": [
       "TtestResult(statistic=9.629073679211825, pvalue=6.824205138083971e-21, df=843.6724892789653)"
      ]
     },
     "execution_count": 43,
     "metadata": {},
     "output_type": "execute_result"
    }
   ],
   "source": [
    "group1 = df[df['tissue']=='metaplasia']\n",
    "group2 = df[df['tissue']=='carcinoma']\n",
    "ttest_ind(group1['weights_log'], group2['weights_log'], equal_var=False)"
   ]
  },
  {
   "cell_type": "code",
   "execution_count": 44,
   "id": "1aa87e51fc10eae9",
   "metadata": {
    "ExecuteTime": {
     "end_time": "2023-12-15T22:55:42.109235800Z",
     "start_time": "2023-12-15T22:55:42.066554Z"
    },
    "collapsed": false,
    "jupyter": {
     "outputs_hidden": false
    }
   },
   "outputs": [
    {
     "data": {
      "text/plain": [
       "source   target \n",
       "JAG2     NOTCH1     0.481471\n",
       "DLL1     NOTCH1     0.487966\n",
       "JAG1     NOTCH1     0.865023\n",
       "CNTN1    NOTCH1     0.486710\n",
       "DLL4     NOTCH1     0.710179\n",
       "                      ...   \n",
       "SLC29A1  ADORA2A    0.042066\n",
       "         ADORA2B    0.040113\n",
       "         ADORA3     0.041318\n",
       "SLC1A1   GRIK1      0.153776\n",
       "         GRM2       0.152506\n",
       "Name: (Foveolar cells, Capillary endothelial cells), Length: 260, dtype: Sparse[float64, 0]"
      ]
     },
     "execution_count": 44,
     "metadata": {},
     "output_type": "execute_result"
    }
   ],
   "source": [
    "wm_df[cit, cjt][idx]"
   ]
  },
  {
   "cell_type": "code",
   "execution_count": 45,
   "id": "fbf55d539d4eb9c1",
   "metadata": {
    "ExecuteTime": {
     "end_time": "2023-12-15T22:55:42.699750900Z",
     "start_time": "2023-12-15T22:55:42.669191400Z"
    },
    "collapsed": false,
    "jupyter": {
     "outputs_hidden": false
    }
   },
   "outputs": [
    {
     "data": {
      "text/plain": [
       "source   target \n",
       "JAG2     NOTCH1     0.481390\n",
       "DLL1     NOTCH1     0.461085\n",
       "JAG1     NOTCH1     0.874129\n",
       "CNTN1    NOTCH1     0.000000\n",
       "DLL4     NOTCH1     0.795427\n",
       "                      ...   \n",
       "SLC29A1  ADORA2A    0.372438\n",
       "         ADORA2B    0.381542\n",
       "         ADORA3     0.371807\n",
       "SLC1A1   GRIK1      0.076099\n",
       "         GRM2       0.079442\n",
       "Name: (Capillary endothelial cells, Foveolar cells), Length: 260, dtype: Sparse[float64, 0]"
      ]
     },
     "execution_count": 45,
     "metadata": {},
     "output_type": "execute_result"
    }
   ],
   "source": [
    "wm_df[cjt, cit][idx]"
   ]
  },
  {
   "cell_type": "code",
   "execution_count": 62,
   "id": "c2baa40779149147",
   "metadata": {
    "ExecuteTime": {
     "end_time": "2023-12-15T23:14:08.919606900Z",
     "start_time": "2023-12-15T23:14:08.611097500Z"
    },
    "collapsed": false,
    "jupyter": {
     "outputs_hidden": false
    }
   },
   "outputs": [
    {
     "name": "stderr",
     "output_type": "stream",
     "text": [
      "C:\\Users\\daveg\\AppData\\Local\\Temp\\ipykernel_20608\\1426678893.py:9: RuntimeWarning: divide by zero encountered in log\n",
      "  ax=sns.scatterplot(x=range(0,len(np.log(vals))), y=np.log(vals))\n",
      "C:\\Users\\daveg\\AppData\\Local\\Temp\\ipykernel_20608\\1426678893.py:12: RuntimeWarning: divide by zero encountered in log\n",
      "  plt.scatter(x=range(0,len(np.log(vals2))), y=np.log(vals2), color='r')\n"
     ]
    },
    {
     "data": {
      "image/png": "[encoded data removed]",
      "text/plain": [
       "<Figure size 640x480 with 1 Axes>"
      ]
     },
     "metadata": {},
     "output_type": "display_data"
    }
   ],
   "source": [
    "# j to i direction\n",
    "vals = (wm_df[cjt, cit][idx]).to_list()\n",
    "vals.sort()\n",
    "\n",
    "# then the i to j direction \n",
    "vals2 = (wm_df[cit, cjt][idx]).to_list()\n",
    "vals2.sort()\n",
    "\n",
    "ax=sns.scatterplot(x=range(0,len(np.log(vals))), y=np.log(vals))\n",
    "ax.set(ylabel='log weights', xlabel='sorted L-R pairs')\n",
    "\n",
    "plt.scatter(x=range(0,len(np.log(vals2))), y=np.log(vals2), color='r')\n",
    "\n",
    "plt.savefig('results/figs/fov_cap_endo_log_weights_scatterplot.pdf')"
   ]
  },
  {
   "cell_type": "code",
   "execution_count": 49,
   "id": "da7a84986e69c9e2",
   "metadata": {
    "ExecuteTime": {
     "end_time": "2023-12-15T22:56:09.008329100Z",
     "start_time": "2023-12-15T22:56:08.949596900Z"
    },
    "collapsed": false,
    "jupyter": {
     "outputs_hidden": false
    }
   },
   "outputs": [
    {
     "data": {
      "text/plain": [
       "source  target\n",
       "HLA-E   VSIR      8.689407\n",
       "        KLRK1     8.495751\n",
       "        KLRC1     8.489613\n",
       "        KLRC2     8.489365\n",
       "Name: (Capillary endothelial cells, Foveolar cells), dtype: Sparse[float64, 0]"
      ]
     },
     "execution_count": 49,
     "metadata": {},
     "output_type": "execute_result"
    }
   ],
   "source": [
    "pl_df1 = wm_df[cjt, cit][idx]\n",
    "pl_df1[ [ ('HLA-E','VSIR'),('HLA-E','KLRK1'), ('HLA-E','KLRC1'), ('HLA-E','KLRC2') ] ]"
   ]
  },
  {
   "cell_type": "code",
   "execution_count": 50,
   "id": "6531875785314772",
   "metadata": {
    "ExecuteTime": {
     "end_time": "2023-12-15T22:56:13.995621600Z",
     "start_time": "2023-12-15T22:56:13.962764800Z"
    },
    "collapsed": false,
    "jupyter": {
     "outputs_hidden": false
    }
   },
   "outputs": [
    {
     "data": {
      "text/plain": [
       "source  target\n",
       "HLA-E   VSIR      6.203305\n",
       "        KLRK1     6.019438\n",
       "        KLRC1     6.006501\n",
       "        KLRC2     6.004107\n",
       "Name: (Capillary endothelial cells, Foveolar cells), dtype: Sparse[float64, 0]"
      ]
     },
     "execution_count": 50,
     "metadata": {},
     "output_type": "execute_result"
    }
   ],
   "source": [
    "#pl_df1 = wm_df[cjt, cit][idx]\n",
    "#pl_df1[ [ ('HLA-E','VSIR'),('HLA-E','KLRK1'), ('HLA-E','KLRC1'), ('HLA-E','KLRC2') ] ]\n",
    "\n",
    "pl_df2 = wt_df[cjt, cit][jdx]\n",
    "pl_df2[ [ ('HLA-E','VSIR'),('HLA-E','KLRK1'), ('HLA-E','KLRC1'), ('HLA-E','KLRC2') ] ]"
   ]
  },
  {
   "cell_type": "code",
   "execution_count": 210,
   "id": "41899c7e978d184d",
   "metadata": {
    "ExecuteTime": {
     "end_time": "2023-12-10T01:02:36.279129500Z",
     "start_time": "2023-12-10T01:02:35.821963500Z"
    },
    "collapsed": false,
    "jupyter": {
     "outputs_hidden": false
    }
   },
   "outputs": [
    {
     "data": {
      "image/png": "[encoded data removed]",
      "text/plain": [
       "<Figure size 640x480 with 1 Axes>"
      ]
     },
     "metadata": {},
     "output_type": "display_data"
    }
   ],
   "source": [
    "bardf = pd.DataFrame({'gene pair':['M.. HLA-E_VSIR','M.. HLA-E_KLRK1','M.. HLA-E_KLRC1','M.. HLA-E_KLRC2',\n",
    "                       'T.. HLA-E_VSIR','T.. HLA-E_KLRK1','T.. HLA-E_KLRC1','T.. HLA-E_KLRC2'],\n",
    "                      'log weights':[8.7,8.5,8.5,8.5,6.2,6.0,6.0,6.0],\n",
    "                      'tissue dx': ['metaplasia','metaplasia','metaplasia','metaplasia','carcinoma','carcinoma','carcinoma','carcinoma']})\n",
    "\n",
    "bardf['log weights'] = np.log(bardf[['log weights']])\n",
    "\n",
    "ax = sns.barplot(data=bardf, x='gene pair', y='log weights', hue='tissue dx')\n",
    "plt.xticks(rotation=90)"
   ]
  },
  {
   "cell_type": "code",
   "execution_count": 92,
   "id": "5d63d8f529acc084",
   "metadata": {
    "ExecuteTime": {
     "end_time": "2023-12-09T00:44:39.334139800Z",
     "start_time": "2023-12-09T00:44:39.282774100Z"
    },
    "collapsed": false,
    "jupyter": {
     "outputs_hidden": false
    }
   },
   "outputs": [
    {
     "data": {
      "text/plain": [
       "['Arterial endothelial cells',\n",
       " 'CD4 T cells',\n",
       " 'CD8 T cells',\n",
       " 'Capillary endothelial cells',\n",
       " 'Chief cells',\n",
       " 'Dendritic cells',\n",
       " 'Dysplasia-carcinoma',\n",
       " 'Fibroblasts, CAF',\n",
       " 'Fibroblasts, NAF',\n",
       " 'Foveolar cells',\n",
       " 'Gastric mucous secreting cells',\n",
       " 'Gastro-intestinal metaplasia',\n",
       " 'Goblet cells',\n",
       " 'Lymphatic endothelial cells',\n",
       " 'Macrophages',\n",
       " 'Mast cells',\n",
       " 'Memory B cells',\n",
       " 'Monocytes',\n",
       " 'Myofibroblasts-1',\n",
       " 'Myofibroblasts-2',\n",
       " 'NK cells',\n",
       " 'Naive B cells',\n",
       " 'Neuroendocrine cells',\n",
       " 'Neutrophils',\n",
       " 'Pericytes',\n",
       " 'Plasma cells',\n",
       " 'Plasmacytoid dendritic cells',\n",
       " 'Proliferating T cells',\n",
       " 'Secretory cells',\n",
       " 'Squamous epithelium basal',\n",
       " 'Squamous epithelium intermediate',\n",
       " 'Squamous epithelium upper',\n",
       " 'Stressed Dying T cells',\n",
       " 'T regs',\n",
       " 'Venous endothelial cells']"
      ]
     },
     "execution_count": 92,
     "metadata": {},
     "output_type": "execute_result"
    }
   ],
   "source": [
    "cellnames"
   ]
  },
  {
   "cell_type": "code",
   "execution_count": 64,
   "id": "7687bfd72dff4c7a",
   "metadata": {
    "ExecuteTime": {
     "end_time": "2023-12-15T23:16:30.399379600Z",
     "start_time": "2023-12-15T23:16:30.306410400Z"
    },
    "collapsed": false,
    "jupyter": {
     "outputs_hidden": false
    }
   },
   "outputs": [],
   "source": [
    "del ax, cit, cjt, df, fin, g, group1, group2, idx, idx2, jdx, jdx2, one_row, pl_df1, pl_df2, pm_df, pt_df, res_m, res_t, vals, vals2, wm_df, wt_df"
   ]
  },
  {
   "cell_type": "code",
   "execution_count": 69,
   "id": "21b621faf8400983",
   "metadata": {
    "ExecuteTime": {
     "end_time": "2023-12-15T23:17:20.760702100Z",
     "start_time": "2023-12-15T23:17:20.731994300Z"
    },
    "collapsed": false,
    "jupyter": {
     "outputs_hidden": false
    }
   },
   "outputs": [],
   "source": [
    "cit = 'Macrophages'\n",
    "cjt = 'Neutrophils'"
   ]
  },
  {
   "cell_type": "code",
   "execution_count": 74,
   "id": "7b9e7f760bbac887",
   "metadata": {
    "ExecuteTime": {
     "end_time": "2023-12-15T23:18:14.178091200Z",
     "start_time": "2023-12-15T23:18:14.124195300Z"
    },
    "collapsed": false,
    "jupyter": {
     "outputs_hidden": false
    }
   },
   "outputs": [],
   "source": [
    "idx = np.array(pm_df[cit, cjt].tolist()) < 0.0001\n",
    "jdx = np.array(pt_df[cit, cjt].tolist()) < 0.0001\n",
    "idx2 = np.array(pm_df[cjt, cit].tolist()) < 0.0001\n",
    "jdx2 = np.array(pt_df[cjt, cit].tolist()) < 0.0001"
   ]
  },
  {
   "cell_type": "code",
   "execution_count": 75,
   "id": "e948c386b256fd79",
   "metadata": {
    "ExecuteTime": {
     "end_time": "2023-12-15T23:18:15.550961300Z",
     "start_time": "2023-12-15T23:18:15.505153600Z"
    },
    "collapsed": false,
    "jupyter": {
     "outputs_hidden": false
    }
   },
   "outputs": [],
   "source": [
    "#take pairs that are either C_i -> C_j or C_j -> C_i\n",
    "idx = [ (x or y) for (x,y) in zip(idx, idx2) ]\n",
    "jdx = [ (x or y) for (x,y) in zip(jdx, jdx2) ]"
   ]
  },
  {
   "cell_type": "code",
   "execution_count": 76,
   "id": "d9728bc221b83cd4",
   "metadata": {
    "ExecuteTime": {
     "end_time": "2023-12-15T23:18:20.912641400Z",
     "start_time": "2023-12-15T23:18:20.875184Z"
    },
    "collapsed": false,
    "jupyter": {
     "outputs_hidden": false
    }
   },
   "outputs": [],
   "source": [
    "import pandas as pd\n",
    "df = pd.DataFrame({\n",
    "    'tissue':(['metaplasia' for xi in np.where(idx)[0]]+['carcinoma' for xi in np.where(jdx)[0]]+\n",
    "              ['metaplasia' for xi in np.where(idx)[0]]+['carcinoma' for xi in np.where(jdx)[0]]),\n",
    "    'weights':(np.array(wm_df[cit, cjt])[idx].tolist()+np.array(wt_df[cit, cjt])[jdx].tolist()+\n",
    "               np.array(wm_df[cjt, cit])[idx].tolist()+np.array(wt_df[cjt, cit])[jdx].tolist()),\n",
    "})"
   ]
  },
  {
   "cell_type": "code",
   "execution_count": 77,
   "id": "c26bf5309ad6d013",
   "metadata": {
    "ExecuteTime": {
     "end_time": "2023-12-15T23:18:21.886781400Z",
     "start_time": "2023-12-15T23:18:21.827027700Z"
    },
    "collapsed": false,
    "jupyter": {
     "outputs_hidden": false
    }
   },
   "outputs": [
    {
     "name": "stderr",
     "output_type": "stream",
     "text": [
      "C:\\Users\\daveg\\DataspellProjects\\CRUK_Atlas_Derived_Data\\env\\lib\\site-packages\\pandas\\core\\arraylike.py:396: RuntimeWarning: divide by zero encountered in log\n",
      "  result = getattr(ufunc, method)(*inputs, **kwargs)\n"
     ]
    }
   ],
   "source": [
    "df[\"weights_z\"] = (df[\"weights\"] - df[\"weights\"].mean()) / df[\"weights\"].std()\n",
    "\n",
    "df[\"weights_log\"] = np.log(df[\"weights\"])"
   ]
  },
  {
   "cell_type": "code",
   "execution_count": 78,
   "id": "f28babd867714ede",
   "metadata": {
    "ExecuteTime": {
     "end_time": "2023-12-15T23:18:22.763850700Z",
     "start_time": "2023-12-15T23:18:22.724250100Z"
    },
    "collapsed": false,
    "jupyter": {
     "outputs_hidden": false
    }
   },
   "outputs": [
    {
     "data": {
      "text/html": [
       "<div>\n",
       "<style scoped>\n",
       "    .dataframe tbody tr th:only-of-type {\n",
       "        vertical-align: middle;\n",
       "    }\n",
       "\n",
       "    .dataframe tbody tr th {\n",
       "        vertical-align: top;\n",
       "    }\n",
       "\n",
       "    .dataframe thead th {\n",
       "        text-align: right;\n",
       "    }\n",
       "</style>\n",
       "<table border=\"1\" class=\"dataframe\">\n",
       "  <thead>\n",
       "    <tr style=\"text-align: right;\">\n",
       "      <th></th>\n",
       "      <th>tissue</th>\n",
       "      <th>weights</th>\n",
       "      <th>weights_z</th>\n",
       "      <th>weights_log</th>\n",
       "    </tr>\n",
       "  </thead>\n",
       "  <tbody>\n",
       "    <tr>\n",
       "      <th>0</th>\n",
       "      <td>metaplasia</td>\n",
       "      <td>2.363573</td>\n",
       "      <td>-0.091717</td>\n",
       "      <td>0.860175</td>\n",
       "    </tr>\n",
       "    <tr>\n",
       "      <th>1</th>\n",
       "      <td>metaplasia</td>\n",
       "      <td>1.792761</td>\n",
       "      <td>-0.111493</td>\n",
       "      <td>0.583757</td>\n",
       "    </tr>\n",
       "    <tr>\n",
       "      <th>2</th>\n",
       "      <td>metaplasia</td>\n",
       "      <td>1.237689</td>\n",
       "      <td>-0.130724</td>\n",
       "      <td>0.213246</td>\n",
       "    </tr>\n",
       "    <tr>\n",
       "      <th>3</th>\n",
       "      <td>metaplasia</td>\n",
       "      <td>9.308327</td>\n",
       "      <td>0.148889</td>\n",
       "      <td>2.230909</td>\n",
       "    </tr>\n",
       "    <tr>\n",
       "      <th>4</th>\n",
       "      <td>metaplasia</td>\n",
       "      <td>1.171684</td>\n",
       "      <td>-0.133011</td>\n",
       "      <td>0.158442</td>\n",
       "    </tr>\n",
       "    <tr>\n",
       "      <th>...</th>\n",
       "      <td>...</td>\n",
       "      <td>...</td>\n",
       "      <td>...</td>\n",
       "      <td>...</td>\n",
       "    </tr>\n",
       "    <tr>\n",
       "      <th>419</th>\n",
       "      <td>carcinoma</td>\n",
       "      <td>0.295103</td>\n",
       "      <td>-0.163381</td>\n",
       "      <td>-1.220430</td>\n",
       "    </tr>\n",
       "    <tr>\n",
       "      <th>420</th>\n",
       "      <td>carcinoma</td>\n",
       "      <td>0.163429</td>\n",
       "      <td>-0.167943</td>\n",
       "      <td>-1.811380</td>\n",
       "    </tr>\n",
       "    <tr>\n",
       "      <th>421</th>\n",
       "      <td>carcinoma</td>\n",
       "      <td>0.400381</td>\n",
       "      <td>-0.159734</td>\n",
       "      <td>-0.915338</td>\n",
       "    </tr>\n",
       "    <tr>\n",
       "      <th>422</th>\n",
       "      <td>carcinoma</td>\n",
       "      <td>0.050046</td>\n",
       "      <td>-0.171871</td>\n",
       "      <td>-2.994816</td>\n",
       "    </tr>\n",
       "    <tr>\n",
       "      <th>423</th>\n",
       "      <td>carcinoma</td>\n",
       "      <td>0.092045</td>\n",
       "      <td>-0.170416</td>\n",
       "      <td>-2.385476</td>\n",
       "    </tr>\n",
       "  </tbody>\n",
       "</table>\n",
       "<p>308 rows × 4 columns</p>\n",
       "</div>"
      ],
      "text/plain": [
       "         tissue   weights  weights_z  weights_log\n",
       "0    metaplasia  2.363573  -0.091717     0.860175\n",
       "1    metaplasia  1.792761  -0.111493     0.583757\n",
       "2    metaplasia  1.237689  -0.130724     0.213246\n",
       "3    metaplasia  9.308327   0.148889     2.230909\n",
       "4    metaplasia  1.171684  -0.133011     0.158442\n",
       "..          ...       ...        ...          ...\n",
       "419   carcinoma  0.295103  -0.163381    -1.220430\n",
       "420   carcinoma  0.163429  -0.167943    -1.811380\n",
       "421   carcinoma  0.400381  -0.159734    -0.915338\n",
       "422   carcinoma  0.050046  -0.171871    -2.994816\n",
       "423   carcinoma  0.092045  -0.170416    -2.385476\n",
       "\n",
       "[308 rows x 4 columns]"
      ]
     },
     "execution_count": 78,
     "metadata": {},
     "output_type": "execute_result"
    }
   ],
   "source": [
    "df.replace([np.inf, -np.inf], np.nan, inplace=True)\n",
    "df.dropna(axis=0, how=\"any\", inplace=True)\n",
    "df"
   ]
  },
  {
   "cell_type": "code",
   "execution_count": 79,
   "id": "de89acb14b01986d",
   "metadata": {
    "ExecuteTime": {
     "end_time": "2023-12-15T23:18:27.609676400Z",
     "start_time": "2023-12-15T23:18:27.405121100Z"
    },
    "collapsed": false,
    "jupyter": {
     "outputs_hidden": false
    }
   },
   "outputs": [
    {
     "data": {
      "image/png": "[encoded data removed]",
      "text/plain": [
       "<Figure size 640x480 with 1 Axes>"
      ]
     },
     "metadata": {},
     "output_type": "display_data"
    }
   ],
   "source": [
    "sns.boxplot(data=df, y=\"weights_log\",x=\"tissue\")\n",
    "plt.savefig('results/figs/macs_neut_log_weights_boxplot.pdf', bbox_inches=\"tight\")"
   ]
  },
  {
   "cell_type": "code",
   "execution_count": 82,
   "id": "d5f9257c8dedd477",
   "metadata": {
    "ExecuteTime": {
     "end_time": "2023-12-15T23:19:18.619863300Z",
     "start_time": "2023-12-15T23:19:18.040065900Z"
    },
    "collapsed": false,
    "jupyter": {
     "outputs_hidden": false
    }
   },
   "outputs": [
    {
     "name": "stderr",
     "output_type": "stream",
     "text": [
      "C:\\Users\\daveg\\DataspellProjects\\CRUK_Atlas_Derived_Data\\env\\lib\\site-packages\\seaborn\\_oldcore.py:1119: FutureWarning: use_inf_as_na option is deprecated and will be removed in a future version. Convert inf values to NaN before operating instead.\n",
      "  with pd.option_context('mode.use_inf_as_na', True):\n",
      "C:\\Users\\daveg\\DataspellProjects\\CRUK_Atlas_Derived_Data\\env\\lib\\site-packages\\seaborn\\axisgrid.py:118: UserWarning: The figure layout has changed to tight\n",
      "  self._figure.tight_layout(*args, **kwargs)\n"
     ]
    },
    {
     "data": {
      "image/png": "[encoded data removed]",
      "text/plain": [
       "<Figure size 617.125x500 with 1 Axes>"
      ]
     },
     "metadata": {},
     "output_type": "display_data"
    }
   ],
   "source": [
    "sns.displot(data=df, x=\"weights_log\",hue=\"tissue\")\n",
    "plt.axvline(x=df[df.tissue == 'metaplasia'].weights_log.mean(), linewidth=3, color='#1f77b4', label=\"mean\", alpha=0.9, ls='-', lw=2.5)\n",
    "plt.axvline(x=df[df.tissue == 'metaplasia'].weights_log.median(), linewidth=3, color='#1f77b4', label=\"median\", alpha=0.5, ls='-', lw=2.5)\n",
    "plt.axvline(x=df[df.tissue == 'carcinoma'].weights_log.mean(), linewidth=3, color='orange', label=\"mean\", alpha=0.9, ls='-', lw=2.5)\n",
    "plt.axvline(x=df[df.tissue == 'carcinoma'].weights_log.median(), linewidth=3, color='orange', label=\"median\", alpha=0.5, ls='-', lw=2.5)\n",
    "\n",
    "plt.savefig('results/figs/macs_neut_log_weights_displot.pdf', bbox_inches=\"tight\")"
   ]
  },
  {
   "cell_type": "code",
   "execution_count": 83,
   "id": "ab7b1069d555a0f4",
   "metadata": {
    "ExecuteTime": {
     "end_time": "2023-12-15T23:19:23.539818400Z",
     "start_time": "2023-12-15T23:19:23.497985500Z"
    },
    "collapsed": false,
    "jupyter": {
     "outputs_hidden": false
    }
   },
   "outputs": [
    {
     "data": {
      "text/plain": [
       "TtestResult(statistic=4.638867762310346, pvalue=6.818745407345745e-06, df=175.7975017728463)"
      ]
     },
     "execution_count": 83,
     "metadata": {},
     "output_type": "execute_result"
    }
   ],
   "source": [
    "group1 = df[df['tissue']=='metaplasia']\n",
    "group2 = df[df['tissue']=='carcinoma']\n",
    "ttest_ind(group1['weights_log'], group2['weights_log'], equal_var=False)"
   ]
  },
  {
   "cell_type": "code",
   "execution_count": 84,
   "id": "8e550c03990010ec",
   "metadata": {
    "ExecuteTime": {
     "end_time": "2023-12-15T23:19:31.324217600Z",
     "start_time": "2023-12-15T23:19:31.263536Z"
    },
    "collapsed": false,
    "jupyter": {
     "outputs_hidden": false
    }
   },
   "outputs": [
    {
     "data": {
      "text/plain": [
       "source   target\n",
       "JAG2     NOTCH1    0.000000\n",
       "DLL1     NOTCH1    0.000000\n",
       "CNTN1    NOTCH1    0.000000\n",
       "DLL4     NOTCH1    0.000000\n",
       "DLL3     NOTCH1    0.000000\n",
       "                     ...   \n",
       "SLC29A4  ADORA3    0.400381\n",
       "SLC1A3   GRIK1     0.050046\n",
       "         GRM6      0.092045\n",
       "         GRIK4     0.000000\n",
       "         GRIK5     0.000000\n",
       "Name: (Neutrophils, Macrophages), Length: 156, dtype: Sparse[float64, 0]"
      ]
     },
     "execution_count": 84,
     "metadata": {},
     "output_type": "execute_result"
    }
   ],
   "source": [
    "wt_df[cjt, cit][jdx]"
   ]
  },
  {
   "cell_type": "code",
   "execution_count": 85,
   "id": "deef7154cf68c815",
   "metadata": {
    "ExecuteTime": {
     "end_time": "2023-12-15T23:19:31.628359200Z",
     "start_time": "2023-12-15T23:19:31.600825Z"
    },
    "collapsed": false,
    "jupyter": {
     "outputs_hidden": false
    }
   },
   "outputs": [
    {
     "data": {
      "text/plain": [
       "source   target\n",
       "JAG2     NOTCH1    0.627110\n",
       "DLL1     NOTCH1    0.669640\n",
       "CNTN1    NOTCH1    0.622674\n",
       "DLL4     NOTCH1    0.626864\n",
       "DLL3     NOTCH1    0.629157\n",
       "                     ...   \n",
       "SLC29A4  ADORA3    0.000000\n",
       "SLC1A3   GRIK1     1.075012\n",
       "         GRM6      1.042844\n",
       "         GRIK4     1.026182\n",
       "         GRIK5     1.020296\n",
       "Name: (Macrophages, Neutrophils), Length: 156, dtype: Sparse[float64, 0]"
      ]
     },
     "execution_count": 85,
     "metadata": {},
     "output_type": "execute_result"
    }
   ],
   "source": [
    "wt_df[cit, cjt][jdx]"
   ]
  },
  {
   "cell_type": "code",
   "execution_count": 87,
   "id": "4f7dcff1ffbdc1a8",
   "metadata": {
    "ExecuteTime": {
     "end_time": "2023-12-15T23:19:58.309213400Z",
     "start_time": "2023-12-15T23:19:57.991763600Z"
    },
    "collapsed": false,
    "jupyter": {
     "outputs_hidden": false
    }
   },
   "outputs": [
    {
     "name": "stderr",
     "output_type": "stream",
     "text": [
      "C:\\Users\\daveg\\AppData\\Local\\Temp\\ipykernel_20608\\2538073912.py:9: RuntimeWarning: divide by zero encountered in log\n",
      "  ax=sns.scatterplot(x=range(0,156), y=np.log(vals))\n",
      "C:\\Users\\daveg\\AppData\\Local\\Temp\\ipykernel_20608\\2538073912.py:12: RuntimeWarning: divide by zero encountered in log\n",
      "  plt.scatter(x=range(0,156), y=np.log(vals2), color='r')\n"
     ]
    },
    {
     "data": {
      "image/png": "[encoded data removed]",
      "text/plain": [
       "<Figure size 640x480 with 1 Axes>"
      ]
     },
     "metadata": {},
     "output_type": "display_data"
    }
   ],
   "source": [
    "#sns.scatterplot(x=range(0,156), y=wt_df[cjt, cit][jdx])\n",
    "\n",
    "vals = (wt_df[cjt, cit][jdx]).to_list()  # n to macs\n",
    "vals.sort()\n",
    "\n",
    "vals2 = (wt_df[cit, cjt][jdx]).to_list()\n",
    "vals2.sort()\n",
    "\n",
    "ax=sns.scatterplot(x=range(0,156), y=np.log(vals))\n",
    "ax.set(ylabel='log weights', xlabel='sorted L-R pairs')\n",
    "\n",
    "plt.scatter(x=range(0,156), y=np.log(vals2), color='r')\n",
    "plt.savefig('results/figs/macs_neut_log_weights_scatterplot.pdf')\n"
   ]
  },
  {
   "cell_type": "code",
   "execution_count": null,
   "id": "1eb199f14704c25",
   "metadata": {
    "collapsed": false,
    "jupyter": {
     "outputs_hidden": false
    }
   },
   "outputs": [],
   "source": []
  },
  {
   "cell_type": "code",
   "execution_count": 88,
   "id": "1ce6e7f2ce5cf984",
   "metadata": {
    "ExecuteTime": {
     "end_time": "2023-12-15T23:23:22.434177300Z",
     "start_time": "2023-12-15T23:23:22.383348400Z"
    },
    "collapsed": false,
    "jupyter": {
     "outputs_hidden": false
    }
   },
   "outputs": [
    {
     "data": {
      "text/plain": [
       "source  target\n",
       "CXCL8   CXCR2     61.682986\n",
       "        ACKR1      0.000000\n",
       "        CXCR1      0.000000\n",
       "Name: (Neutrophils, Macrophages), dtype: Sparse[float64, 0]"
      ]
     },
     "execution_count": 88,
     "metadata": {},
     "output_type": "execute_result"
    }
   ],
   "source": [
    "pl_df1 = wm_df[cjt, cit][idx]\n",
    "pl_df1[ [ ('CXCL8','CXCR2'), ('CXCL8','ACKR1'), ('CXCL8','CXCR1') ] ]"
   ]
  },
  {
   "cell_type": "code",
   "execution_count": 89,
   "id": "946a47df4dabae2b",
   "metadata": {
    "ExecuteTime": {
     "end_time": "2023-12-15T23:23:23.360302Z",
     "start_time": "2023-12-15T23:23:23.324681200Z"
    },
    "collapsed": false,
    "jupyter": {
     "outputs_hidden": false
    }
   },
   "outputs": [
    {
     "data": {
      "text/plain": [
       "source  target\n",
       "CXCL8   CXCR2     341.734541\n",
       "        ACKR1     341.730005\n",
       "        CXCR1     341.724067\n",
       "Name: (Neutrophils, Macrophages), dtype: Sparse[float64, 0]"
      ]
     },
     "execution_count": 89,
     "metadata": {},
     "output_type": "execute_result"
    }
   ],
   "source": [
    "pl_df2 = wt_df[cjt, cit][jdx]\n",
    "pl_df2[ [ ('CXCL8','CXCR2'), ('CXCL8','ACKR1'), ('CXCL8','CXCR1') ] ]"
   ]
  },
  {
   "cell_type": "code",
   "execution_count": 92,
   "id": "3b8519bb752c4e16",
   "metadata": {
    "ExecuteTime": {
     "end_time": "2023-12-15T23:24:10.732738700Z",
     "start_time": "2023-12-15T23:24:10.221422700Z"
    },
    "collapsed": false,
    "jupyter": {
     "outputs_hidden": false
    }
   },
   "outputs": [
    {
     "name": "stderr",
     "output_type": "stream",
     "text": [
      "C:\\Users\\daveg\\DataspellProjects\\CRUK_Atlas_Derived_Data\\env\\lib\\site-packages\\pandas\\core\\internals\\blocks.py:366: RuntimeWarning: divide by zero encountered in log\n",
      "  result = func(self.values, **kwargs)\n"
     ]
    },
    {
     "data": {
      "image/png": "[encoded data removed]",
      "text/plain": [
       "<Figure size 640x480 with 1 Axes>"
      ]
     },
     "metadata": {},
     "output_type": "display_data"
    }
   ],
   "source": [
    "bardf = pd.DataFrame({'gene pair':['M.. CXCL8_CXCR2','M.. CXCL8_ACKR1','M.. CXCL8_CXCR1',\n",
    "                                   'T.. CXCL8_CXCR2','T.. CXCL8_ACKR1','T.. CXCL8_CXCR1'],\n",
    "                      'log weights':[61.7,0.0,0.0,341.7,341.7,341.7],\n",
    "                      'tissue dx': ['metaplasia','metaplasia','metaplasia','carcinoma','carcinoma','carcinoma']})\n",
    "\n",
    "bardf['log weights'] = np.log(bardf[['log weights']])\n",
    "\n",
    "ax = sns.barplot(data=bardf, x='gene pair', y='log weights', hue='tissue dx')\n",
    "plt.xticks(rotation=90)\n",
    "\n",
    "plt.savefig('results/figs/macs_neut_log_weights_barplot.pdf', bbox_inches=\"tight\")"
   ]
  },
  {
   "cell_type": "code",
   "execution_count": null,
   "id": "261260963d0c08f1",
   "metadata": {
    "collapsed": false,
    "jupyter": {
     "outputs_hidden": false
    }
   },
   "outputs": [],
   "source": []
  },
  {
   "cell_type": "code",
   "execution_count": null,
   "id": "7acbcc6686003cca",
   "metadata": {
    "collapsed": false,
    "jupyter": {
     "outputs_hidden": false
    }
   },
   "outputs": [],
   "source": []
  },
  {
   "cell_type": "code",
   "execution_count": 269,
   "id": "d3a33a9a82fb58ba",
   "metadata": {
    "ExecuteTime": {
     "end_time": "2023-12-10T01:33:48.083296600Z",
     "start_time": "2023-12-10T01:33:48.008962700Z"
    },
    "collapsed": false,
    "jupyter": {
     "outputs_hidden": false
    }
   },
   "outputs": [
    {
     "name": "stderr",
     "output_type": "stream",
     "text": [
      "C:\\Users\\daveg\\DataspellProjects\\CRUK_Atlas_Derived_Data\\env\\lib\\site-packages\\pandas\\core\\arraylike.py:396: RuntimeWarning: divide by zero encountered in log\n",
      "  result = getattr(ufunc, method)(*inputs, **kwargs)\n"
     ]
    }
   ],
   "source": [
    "cit = 'Plasma cells'\n",
    "cjt = 'Foveolar cells'\n",
    "\n",
    "idx = np.array(pm_df[cit, cjt].tolist()) < 0.0001\n",
    "jdx = np.array(pt_df[cit, cjt].tolist()) < 0.0001\n",
    "idx2 = np.array(pm_df[cjt, cit].tolist()) < 0.0001\n",
    "jdx2 = np.array(pt_df[cjt, cit].tolist()) < 0.0001\n",
    "\n",
    "#take pairs that are either C_i -> C_j or C_j -> C_i\n",
    "idx = [ (x or y) for (x,y) in zip(idx, idx2) ]\n",
    "jdx = [ (x or y) for (x,y) in zip(jdx, jdx2) ]\n",
    "\n",
    "df = pd.DataFrame({\n",
    "    'tissue':(['metaplasia' for xi in np.where(idx)[0]]+['carcinoma' for xi in np.where(jdx)[0]]+\n",
    "              ['metaplasia' for xi in np.where(idx)[0]]+['carcinoma' for xi in np.where(jdx)[0]]),\n",
    "    'weights':(np.array(wm_df[cit, cjt])[idx].tolist()+np.array(wt_df[cit, cjt])[jdx].tolist()+\n",
    "               np.array(wm_df[cjt, cit])[idx].tolist()+np.array(wt_df[cjt, cit])[jdx].tolist()),\n",
    "})\n",
    "\n",
    "df[\"weights_z\"] = (df[\"weights\"] - df[\"weights\"].mean()) / df[\"weights\"].std()\n",
    "df[\"weights_log\"] = np.log(df[\"weights\"])\n",
    "\n",
    "df.replace([np.inf, -np.inf], np.nan, inplace=True)\n",
    "df.dropna(axis=0, how=\"any\", inplace=True)\n"
   ]
  },
  {
   "cell_type": "code",
   "execution_count": 270,
   "id": "4aac5681041522ba",
   "metadata": {
    "ExecuteTime": {
     "end_time": "2023-12-10T01:33:52.273803800Z",
     "start_time": "2023-12-10T01:33:51.680686300Z"
    },
    "collapsed": false,
    "jupyter": {
     "outputs_hidden": false
    }
   },
   "outputs": [
    {
     "name": "stderr",
     "output_type": "stream",
     "text": [
      "C:\\Users\\daveg\\DataspellProjects\\CRUK_Atlas_Derived_Data\\env\\lib\\site-packages\\seaborn\\_oldcore.py:1119: FutureWarning: use_inf_as_na option is deprecated and will be removed in a future version. Convert inf values to NaN before operating instead.\n",
      "  with pd.option_context('mode.use_inf_as_na', True):\n",
      "C:\\Users\\daveg\\DataspellProjects\\CRUK_Atlas_Derived_Data\\env\\lib\\site-packages\\seaborn\\axisgrid.py:118: UserWarning: The figure layout has changed to tight\n",
      "  self._figure.tight_layout(*args, **kwargs)\n"
     ]
    },
    {
     "data": {
      "image/png": "[encoded data removed]",
      "text/plain": [
       "<Figure size 617.125x500 with 1 Axes>"
      ]
     },
     "metadata": {},
     "output_type": "display_data"
    }
   ],
   "source": [
    "sns.displot(data=df, x=\"weights_log\",hue=\"tissue\")\n",
    "plt.savefig('results/figs/plasma_fov_log_weights_displot.pdf', bbox_inches=\"tight\")"
   ]
  },
  {
   "cell_type": "code",
   "execution_count": 271,
   "id": "b93eca31e3d96b24",
   "metadata": {
    "ExecuteTime": {
     "end_time": "2023-12-10T01:34:31.064626500Z",
     "start_time": "2023-12-10T01:34:30.994118700Z"
    },
    "collapsed": false,
    "jupyter": {
     "outputs_hidden": false
    }
   },
   "outputs": [
    {
     "data": {
      "text/plain": [
       "TtestResult(statistic=1.1046123125466063, pvalue=0.2707527318313093, df=186.23104790553532)"
      ]
     },
     "execution_count": 271,
     "metadata": {},
     "output_type": "execute_result"
    }
   ],
   "source": [
    "group1 = df[df['tissue']=='metaplasia']\n",
    "group2 = df[df['tissue']=='carcinoma']\n",
    "ttest_ind(group1['weights_log'], group2['weights_log'], equal_var=False)"
   ]
  },
  {
   "cell_type": "code",
   "execution_count": 272,
   "id": "232569bcbd0566da",
   "metadata": {
    "ExecuteTime": {
     "end_time": "2023-12-10T01:35:00.992157400Z",
     "start_time": "2023-12-10T01:35:00.769679200Z"
    },
    "collapsed": false,
    "jupyter": {
     "outputs_hidden": false
    }
   },
   "outputs": [
    {
     "data": {
      "image/png": "[encoded data removed]",
      "text/plain": [
       "<Figure size 640x480 with 1 Axes>"
      ]
     },
     "metadata": {},
     "output_type": "display_data"
    }
   ],
   "source": [
    "sns.boxplot(data=df, y=\"weights_log\",x=\"tissue\")\n",
    "plt.savefig('results/figs/plasma_fov_log_weights_boxplot.pdf', bbox_inches=\"tight\")"
   ]
  },
  {
   "cell_type": "code",
   "execution_count": 273,
   "id": "da607d5d979ca873",
   "metadata": {
    "ExecuteTime": {
     "end_time": "2023-12-10T01:35:28.743594600Z",
     "start_time": "2023-12-10T01:35:28.657731700Z"
    },
    "collapsed": false,
    "jupyter": {
     "outputs_hidden": false
    }
   },
   "outputs": [
    {
     "data": {
      "text/plain": [
       "source   target  \n",
       "IGF1     ITGB4       0.067063\n",
       "TNFSF14  LTBR        0.063917\n",
       "         TNFRSF14    0.224346\n",
       "LTA      TNFRSF14    0.212219\n",
       "CD160    TNFRSF14    0.233238\n",
       "                       ...   \n",
       "TG       THRA        0.010514\n",
       "SLC29A2  ADORA2A     0.104698\n",
       "SLC1A1   GRIA4       0.131817\n",
       "         GRIK1       0.141633\n",
       "         GRM8        0.134208\n",
       "Name: (Foveolar cells, Plasma cells), Length: 66, dtype: Sparse[float64, 0]"
      ]
     },
     "execution_count": 273,
     "metadata": {},
     "output_type": "execute_result"
    }
   ],
   "source": [
    "wm_df[cjt, cit][idx]"
   ]
  },
  {
   "cell_type": "code",
   "execution_count": 274,
   "id": "2d7b284da94a40a2",
   "metadata": {
    "ExecuteTime": {
     "end_time": "2023-12-10T01:35:37.348609500Z",
     "start_time": "2023-12-10T01:35:37.253036200Z"
    },
    "collapsed": false,
    "jupyter": {
     "outputs_hidden": false
    }
   },
   "outputs": [
    {
     "data": {
      "text/plain": [
       "source   target  \n",
       "IGF1     ITGB4       0.942959\n",
       "TNFSF14  LTBR        0.664180\n",
       "         TNFRSF14    0.784469\n",
       "LTA      TNFRSF14    0.782538\n",
       "CD160    TNFRSF14    0.790361\n",
       "                       ...   \n",
       "TG       THRA        0.177121\n",
       "SLC29A2  ADORA2A     0.003979\n",
       "SLC1A1   GRIA4       0.009540\n",
       "         GRIK1       0.004979\n",
       "         GRM8        0.005017\n",
       "Name: (Plasma cells, Foveolar cells), Length: 66, dtype: Sparse[float64, 0]"
      ]
     },
     "execution_count": 274,
     "metadata": {},
     "output_type": "execute_result"
    }
   ],
   "source": [
    "wm_df[cit, cjt][idx]"
   ]
  },
  {
   "cell_type": "code",
   "execution_count": 287,
   "id": "8b5b05fa7fe5dc42",
   "metadata": {
    "ExecuteTime": {
     "end_time": "2023-12-10T01:42:03.878441500Z",
     "start_time": "2023-12-10T01:42:03.574818300Z"
    },
    "collapsed": false,
    "jupyter": {
     "outputs_hidden": false
    }
   },
   "outputs": [
    {
     "name": "stderr",
     "output_type": "stream",
     "text": [
      "C:\\Users\\daveg\\AppData\\Local\\Temp\\ipykernel_17880\\612224693.py:9: RuntimeWarning: divide by zero encountered in log\n",
      "  ax=sns.scatterplot(x=range(0,len(np.log(vals2))), y=np.log(vals2))\n",
      "C:\\Users\\daveg\\AppData\\Local\\Temp\\ipykernel_17880\\612224693.py:12: RuntimeWarning: divide by zero encountered in log\n",
      "  plt.scatter(x=range(0,len(np.log(vals))), y=np.log(vals), color='r')\n"
     ]
    },
    {
     "data": {
      "image/png": "[encoded data removed]",
      "text/plain": [
       "<Figure size 640x480 with 1 Axes>"
      ]
     },
     "metadata": {},
     "output_type": "display_data"
    }
   ],
   "source": [
    "#sns.scatterplot(x=range(0,156), y=wt_df[cjt, cit][jdx])\n",
    "\n",
    "vals = (wm_df[cit, cjt][idx]).to_list()  # plasma to fov\n",
    "vals.sort()\n",
    "\n",
    "vals2 = (wm_df[cjt, cit][idx]).to_list()\n",
    "vals2.sort()\n",
    "\n",
    "ax=sns.scatterplot(x=range(0,len(np.log(vals2))), y=np.log(vals2))\n",
    "ax.set(ylabel='log weights', xlabel='sorted L-R pairs')\n",
    "\n",
    "plt.scatter(x=range(0,len(np.log(vals))), y=np.log(vals), color='r')\n",
    "\n",
    "plt.savefig('results/figs/plasma_fov_log_weights_scatterplot.pdf')"
   ]
  },
  {
   "cell_type": "code",
   "execution_count": 286,
   "id": "d67c6063e02b9951",
   "metadata": {
    "ExecuteTime": {
     "end_time": "2023-12-10T01:41:34.493763800Z",
     "start_time": "2023-12-10T01:41:34.415065800Z"
    },
    "collapsed": false,
    "jupyter": {
     "outputs_hidden": false
    }
   },
   "outputs": [
    {
     "name": "stderr",
     "output_type": "stream",
     "text": [
      "C:\\Users\\daveg\\AppData\\Local\\Temp\\ipykernel_17880\\677415896.py:1: RuntimeWarning: divide by zero encountered in log\n",
      "  np.log(vals)\n"
     ]
    },
    {
     "data": {
      "text/plain": [
       "array([       -inf,        -inf,        -inf,        -inf, -5.52672368,\n",
       "       -5.46510791, -5.30261631, -5.29499847, -4.65221974, -4.50890498,\n",
       "       -2.94440649, -2.93808545, -2.87149571, -2.83471213, -2.77992575,\n",
       "       -2.77407793, -2.74567716, -2.62702009, -2.51644081, -2.44260923,\n",
       "       -2.41347943, -2.40992958, -2.30984305, -2.30866585, -2.30861216,\n",
       "       -2.24125168, -2.15191659, -1.94604962, -1.84546048, -1.84491062,\n",
       "       -1.82745716, -1.73092152, -1.64748768, -1.64688051, -1.64423671,\n",
       "       -1.60449405, -1.562949  , -1.53303351, -1.51452402, -1.50115732,\n",
       "       -1.41186848, -1.40016226, -1.38147104, -1.37011332, -1.27039436,\n",
       "       -1.15203731, -1.12428734, -1.07221823, -1.07071501, -1.03324397,\n",
       "       -0.96839803, -0.93266214, -0.75504733, -0.72297368, -0.72026201,\n",
       "       -0.69835167, -0.66111017, -0.43381228, -0.40920234, -0.2452132 ,\n",
       "       -0.2427484 , -0.23526526, -0.11734359, -0.05873295,  0.12430216,\n",
       "        1.53508917])"
      ]
     },
     "execution_count": 286,
     "metadata": {},
     "output_type": "execute_result"
    }
   ],
   "source": [
    "np.log(vals)\n"
   ]
  },
  {
   "cell_type": "code",
   "execution_count": 292,
   "id": "e7aedb87c350884b",
   "metadata": {
    "ExecuteTime": {
     "end_time": "2023-12-10T01:45:49.049245100Z",
     "start_time": "2023-12-10T01:45:48.953314900Z"
    },
    "collapsed": false,
    "jupyter": {
     "outputs_hidden": false
    }
   },
   "outputs": [
    {
     "data": {
      "text/plain": [
       "source   target \n",
       "CEACAM5  CEACAM1    4.661475\n",
       "CEACAM6  CEACAM1    2.503308\n",
       "VEGFA    FLT1       1.132531\n",
       "Name: (Foveolar cells, Plasma cells), dtype: Sparse[float64, 0]"
      ]
     },
     "execution_count": 292,
     "metadata": {},
     "output_type": "execute_result"
    }
   ],
   "source": [
    "pl_df1 = wm_df[cjt, cit][idx]\n",
    "pl_df1[ [ ('CEACAM5','CEACAM1'),('CEACAM6','CEACAM1'),  ('VEGFA','FLT1') ] ] #('LGALS3','MERTK'),"
   ]
  },
  {
   "cell_type": "code",
   "execution_count": 291,
   "id": "c6f06a0a481f3837",
   "metadata": {
    "ExecuteTime": {
     "end_time": "2023-12-10T01:45:31.712240400Z",
     "start_time": "2023-12-10T01:45:31.646147900Z"
    },
    "collapsed": false,
    "jupyter": {
     "outputs_hidden": false
    }
   },
   "outputs": [
    {
     "data": {
      "text/plain": [
       "source   target \n",
       "CEACAM5  CEACAM1    2.947900\n",
       "CEACAM6  CEACAM1    1.315967\n",
       "LGALS3   MERTK      3.894144\n",
       "VEGFA    FLT1       3.706587\n",
       "Name: (Foveolar cells, Plasma cells), dtype: Sparse[float64, 0]"
      ]
     },
     "execution_count": 291,
     "metadata": {},
     "output_type": "execute_result"
    }
   ],
   "source": [
    "pl_df2 = wt_df[cjt, cit][jdx]\n",
    "pl_df2[ [ ('CEACAM5','CEACAM1'),('CEACAM6','CEACAM1'), ('LGALS3','MERTK'), ('VEGFA','FLT1') ] ]"
   ]
  },
  {
   "cell_type": "code",
   "execution_count": 293,
   "id": "aac199fc8fd3b458",
   "metadata": {
    "ExecuteTime": {
     "end_time": "2023-12-10T01:47:40.850780Z",
     "start_time": "2023-12-10T01:47:40.352068100Z"
    },
    "collapsed": false,
    "jupyter": {
     "outputs_hidden": false
    }
   },
   "outputs": [
    {
     "name": "stderr",
     "output_type": "stream",
     "text": [
      "C:\\Users\\daveg\\DataspellProjects\\CRUK_Atlas_Derived_Data\\env\\lib\\site-packages\\pandas\\core\\internals\\blocks.py:366: RuntimeWarning: divide by zero encountered in log\n",
      "  result = func(self.values, **kwargs)\n"
     ]
    },
    {
     "data": {
      "image/png": "[encoded data removed]",
      "text/plain": [
       "<Figure size 640x480 with 1 Axes>"
      ]
     },
     "metadata": {},
     "output_type": "display_data"
    }
   ],
   "source": [
    "bardf = pd.DataFrame({'gene pair':['M.. CEACAM5_CEACAM1','M.. CEACAM6_CEACAM1','M.. LGALS3_MERTK','M.. VEGFA_FLT1',\n",
    "                                   'T.. CEACAM5_CEACAM1','T.. CEACAM6_CEACAM1','T.. LGALS3_MERTK','T.. VEGFA_FLT1'],\n",
    "                      'log weights':[4.7, 2.5, 0.0, 1.1, 2.9, 1.3, 3.9, 3.7],\n",
    "                      'tissue dx': ['metaplasia','metaplasia','metaplasia','metaplasia','carcinoma','carcinoma','carcinoma','carcinoma']})\n",
    "\n",
    "bardf['log weights'] = np.log(bardf[['log weights']])\n",
    "\n",
    "ax = sns.barplot(data=bardf, x='gene pair', y='log weights', hue='tissue dx')\n",
    "plt.xticks(rotation=90)\n",
    "\n",
    "plt.savefig('results/figs/plasma_fov_log_weights_barplot.pdf', bbox_inches=\"tight\")"
   ]
  },
  {
   "cell_type": "code",
   "execution_count": null,
   "id": "a91a85869c90f20e",
   "metadata": {
    "collapsed": false,
    "jupyter": {
     "outputs_hidden": false
    }
   },
   "outputs": [],
   "source": []
  }
 ],
 "metadata": {
  "kernelspec": {
   "display_name": "Python 3 (ipykernel)",
   "language": "python",
   "name": "python3"
  },
  "language_info": {
   "codemirror_mode": {
    "name": "ipython",
    "version": 3
   },
   "file_extension": ".py",
   "mimetype": "text/x-python",
   "name": "python",
   "nbconvert_exporter": "python",
   "pygments_lexer": "ipython3",
   "version": "3.11.0"
  }
 },
 "nbformat": 4,
 "nbformat_minor": 5
}
