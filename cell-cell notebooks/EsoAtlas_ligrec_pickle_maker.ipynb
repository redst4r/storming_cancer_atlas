{
 "cells": [
  {
   "cell_type": "code",
   "execution_count": null,
   "id": "initial_id",
   "metadata": {
    "ExecuteTime": {
     "end_time": "2024-01-05T07:58:50.221109600Z",
     "start_time": "2024-01-05T07:58:43.877296800Z"
    },
    "collapsed": false,
    "jupyter": {
     "outputs_hidden": false
    }
   },
   "outputs": [],
   "source": [
    "import scanpy as sc\n",
    "import squidpy as sq\n",
    "import pandas as pd\n",
    "import numpy as np\n",
    "import seaborn as sns\n",
    "import scipy\n",
    "import pickle as pkl"
   ]
  },
  {
   "cell_type": "code",
   "execution_count": null,
   "id": "3dc5f8d1-4578-4b9c-8d8a-8232c3c52831",
   "metadata": {},
   "outputs": [],
   "source": [
    "import sys\n",
    "sys.path.append('..')\n",
    "from util import load_original_data"
   ]
  },
  {
   "cell_type": "code",
   "execution_count": null,
   "id": "1aabc9997a7cc460",
   "metadata": {
    "ExecuteTime": {
     "end_time": "2024-01-05T07:58:55.346057500Z",
     "start_time": "2024-01-05T07:58:50.236666700Z"
    },
    "collapsed": false,
    "jupyter": {
     "outputs_hidden": false
    }
   },
   "outputs": [],
   "source": [
    "# the atlas adata\n",
    "q = load_original_data()\n",
    "\n",
    "# load the finegrained labels obs\n",
    "qobs = pd.read_csv('../EsoAtlas_july182022_obs_w_fine_grain_celltypes.csv', index_col=0)\n",
    "\n",
    "# getting into the right order\n",
    "qobs = qobs.loc[q.obs.index,:]\n",
    "\n",
    "# copying it over\n",
    "q.obs = qobs\n",
    "\n",
    "# drop cells without a fine grained label\n",
    "qobs2 = q.obs.dropna(subset=['Fine_Grained_Label'])\n",
    "\n",
    "q = q[qobs2.index]"
   ]
  },
  {
   "cell_type": "code",
   "execution_count": 3,
   "id": "fb4483b0185af396",
   "metadata": {
    "ExecuteTime": {
     "end_time": "2024-01-05T07:58:55.924522Z",
     "start_time": "2024-01-05T07:58:55.346057500Z"
    },
    "collapsed": false,
    "jupyter": {
     "outputs_hidden": false
    }
   },
   "outputs": [],
   "source": [
    "diagstr = 'T'\n",
    "qsub = q[q.obs.diagnosis == diagstr].copy()"
   ]
  },
  {
   "cell_type": "code",
   "execution_count": null,
   "id": "e78e9f7ffcbfecbb",
   "metadata": {
    "collapsed": false,
    "jupyter": {
     "outputs_hidden": false
    }
   },
   "outputs": [],
   "source": [
    "qsub.obs.Fine_Grained_Label.value_counts()"
   ]
  },
  {
   "cell_type": "code",
   "execution_count": null,
   "id": "3d09b69bdfe022cb",
   "metadata": {
    "collapsed": false,
    "jupyter": {
     "outputs_hidden": false
    }
   },
   "outputs": [],
   "source": [
    "qsub[qsub.obs.Fine_Grained_Label == 'Macrophages', \"CXCL8\"].X.toarray().mean()"
   ]
  },
  {
   "cell_type": "code",
   "execution_count": null,
   "id": "6a08d0f787ad9b6a",
   "metadata": {
    "collapsed": false,
    "jupyter": {
     "outputs_hidden": false
    }
   },
   "outputs": [],
   "source": [
    "qsub[qsub.obs.Fine_Grained_Label == 'Neutrophils', \"CXCR2\"].X#.toarray().mean()"
   ]
  },
  {
   "cell_type": "code",
   "execution_count": null,
   "id": "47baed81fd2ad2b8",
   "metadata": {
    "collapsed": false,
    "jupyter": {
     "outputs_hidden": false
    }
   },
   "outputs": [],
   "source": [
    "del q, qobs, qobs2"
   ]
  },
  {
   "cell_type": "code",
   "execution_count": 5,
   "id": "d499e3d113214d17",
   "metadata": {
    "ExecuteTime": {
     "end_time": "2024-01-05T07:58:56.721612200Z",
     "start_time": "2024-01-05T07:58:55.940063800Z"
    },
    "collapsed": false,
    "jupyter": {
     "outputs_hidden": false
    }
   },
   "outputs": [],
   "source": [
    "# first normalize the counts\n",
    "sc.pp.normalize_total(qsub, target_sum=10000 )\n",
    "\n",
    "# they do this in several tutorials..\n",
    "qsub.raw = qsub.copy()\n",
    "#qsub.X = scipy.sparse.csr_array(qsub.X)\n",
    "qsub.obs['Fine_Grained_Label'] = qsub.obs['Fine_Grained_Label'].astype('category')\n",
    "qsub.obs['Coarse_Grained_Label'] = qsub.obs['Coarse_Grained_Label'].astype('category')\n",
    "qsub.obs['leiden'] = qsub.obs['leiden'].astype('category')\n"
   ]
  },
  {
   "cell_type": "code",
   "execution_count": 6,
   "id": "ea1192b4058807e7",
   "metadata": {
    "ExecuteTime": {
     "end_time": "2024-01-05T07:58:56.737284900Z",
     "start_time": "2024-01-05T07:58:56.721612200Z"
    },
    "collapsed": false,
    "jupyter": {
     "outputs_hidden": false
    }
   },
   "outputs": [
    {
     "data": {
      "text/plain": [
       "AnnData object with n_obs × n_vars = 50076 × 35606\n",
       "    obs: 'samplename', 'n_genes', 'n_molecules', 'doublet_score', 'percent_mito', 'leiden', 'louvain', 'diagnosis', 'phase', 'sample_diagnosis', 'patient', 'treatment', 'procedure', 'hcl_refined', 'hcl_celltype', 'hcl_score', 'CLid', 'CL_name', 'nobatch_leiden', 'nobatch_louvain', 'cnv_avg', 'has_cnv', 'allcells_leiden', 'allcells_nobatch_leiden', 'ct_leiden', 'ct_nobatch_leiden', 'celltype_split', 'Coarse_Grained_Label', 'Fine_Grained_Label'\n",
       "    var: 'gene_ids', 'feature_types', 'genome', 'is_mito', 'is_ribo'\n",
       "    uns: 'leiden', 'leiden_colors', 'leiden_sizes', 'log_X', 'log_raw.X', 'louvain', 'neighbors', 'nobatch', 'nobatch_leiden_colors', 'nobatch_leiden_sizes', 'nobatch_rank_genes_groups', 'nobatch_rank_genes_groups_filtered', 'nobatch_rank_genes_groups_unfiltered', 'paga', 'pca', 'rank_genes_groups', 'rank_genes_groups_filtered', 'rank_genes_groups_unfiltered', 'umap'\n",
       "    obsm: 'X_pca', 'X_pca_original', 'X_umap', 'X_umap_nobatch'\n",
       "    obsp: 'connectivities', 'distances', 'nobatch_connectivities', 'nobatch_distances'"
      ]
     },
     "execution_count": 6,
     "metadata": {},
     "output_type": "execute_result"
    }
   ],
   "source": [
    "qsub"
   ]
  },
  {
   "cell_type": "code",
   "execution_count": 7,
   "id": "92ff6e82d45df40",
   "metadata": {
    "ExecuteTime": {
     "end_time": "2024-01-05T07:58:56.861702100Z",
     "start_time": "2024-01-05T07:58:56.737284900Z"
    },
    "collapsed": false,
    "jupyter": {
     "outputs_hidden": false
    }
   },
   "outputs": [
    {
     "name": "stderr",
     "output_type": "stream",
     "text": [
      "C:\\Users\\dgibbs\\CRUK_Atlas_Derived_Data\\lib\\site-packages\\anndata\\_core\\anndata.py:1113: FutureWarning: is_categorical_dtype is deprecated and will be removed in a future version. Use isinstance(dtype, CategoricalDtype) instead\n",
      "  if not is_categorical_dtype(df_full[k]):\n"
     ]
    },
    {
     "data": {
      "text/plain": [
       "683.4464"
      ]
     },
     "execution_count": 7,
     "metadata": {},
     "output_type": "execute_result"
    }
   ],
   "source": [
    "qsub[qsub.obs.Fine_Grained_Label == 'Neutrophils', \"CXCL8\"].X.toarray().mean()"
   ]
  },
  {
   "cell_type": "code",
   "execution_count": 8,
   "id": "42cd60cf72992b93",
   "metadata": {
    "ExecuteTime": {
     "end_time": "2024-01-05T07:58:56.877294400Z",
     "start_time": "2024-01-05T07:58:56.767960600Z"
    },
    "collapsed": false,
    "jupyter": {
     "outputs_hidden": false
    }
   },
   "outputs": [
    {
     "data": {
      "text/plain": [
       "<771x1 sparse matrix of type '<class 'numpy.float32'>'\n",
       "\twith 2 stored elements in Compressed Sparse Row format>"
      ]
     },
     "execution_count": 8,
     "metadata": {},
     "output_type": "execute_result"
    }
   ],
   "source": [
    "qsub[qsub.obs.Fine_Grained_Label == 'Macrophages', \"CXCR1\"].X"
   ]
  },
  {
   "cell_type": "code",
   "execution_count": 9,
   "id": "4842c1a4bca14d94",
   "metadata": {
    "ExecuteTime": {
     "end_time": "2024-01-05T07:58:56.877294400Z",
     "start_time": "2024-01-05T07:58:56.799202600Z"
    },
    "collapsed": false,
    "jupyter": {
     "outputs_hidden": false
    }
   },
   "outputs": [
    {
     "data": {
      "text/plain": [
       "0.009079118028534372"
      ]
     },
     "execution_count": 9,
     "metadata": {},
     "output_type": "execute_result"
    }
   ],
   "source": [
    "7/771"
   ]
  },
  {
   "cell_type": "code",
   "execution_count": null,
   "id": "dcc6f99e7800cf99",
   "metadata": {
    "ExecuteTime": {
     "start_time": "2024-01-05T07:58:56.814824700Z"
    },
    "collapsed": false,
    "is_executing": true,
    "jupyter": {
     "outputs_hidden": false
    }
   },
   "outputs": [
    {
     "name": "stderr",
     "output_type": "stream",
     "text": [
      "C:\\Users\\dgibbs\\CRUK_Atlas_Derived_Data\\lib\\site-packages\\squidpy\\gr\\_utils.py:141: FutureWarning: is_categorical_dtype is deprecated and will be removed in a future version. Use isinstance(dtype, CategoricalDtype) instead\n",
      "  if not is_categorical_dtype(adata.obs[key]):\n",
      "C:\\Users\\dgibbs\\CRUK_Atlas_Derived_Data\\lib\\site-packages\\squidpy\\gr\\_ligrec.py:732: FutureWarning: The default of observed=False is deprecated and will be changed to True in a future version of pandas. Pass observed=False to retain current behavior or observed=True to adopt the future default and silence this warning.\n",
      "  groups = data.groupby(\"clusters\")\n"
     ]
    },
    {
     "data": {
      "application/vnd.jupyter.widget-view+json": {
       "model_id": "3980ab45d9fa49eb81579fe278d48dcb",
       "version_major": 2,
       "version_minor": 0
      },
      "text/plain": [
       "  0%|          | 0/1000 [00:00<?, ?permutation/s]"
      ]
     },
     "metadata": {},
     "output_type": "display_data"
    }
   ],
   "source": [
    "\n",
    "res_coarse = sq.gr.ligrec(\n",
    "    qsub,\n",
    "    n_perms=1000,\n",
    "    threshold=0.009,\n",
    "    cluster_key=\"Coarse_Grained_Label\",\n",
    "    copy=True,\n",
    "    use_raw=False,\n",
    "    interactions_params={\"resources\": \"CellPhoneDB\"},\n",
    "    #interactions=lrs,\n",
    "    jobs=4\n",
    "    #transmitter_params={\"categories\": \"ligand\"},\n",
    "    #receiver_params={\"categories\": \"receptor\"},\n",
    ")\n",
    "\n",
    "res_fine = sq.gr.ligrec(\n",
    "    qsub,\n",
    "    n_perms=1000,\n",
    "    threshold=0.009,\n",
    "    cluster_key=\"Fine_Grained_Label\",\n",
    "    copy=True,\n",
    "    use_raw=False,\n",
    "    interactions_params={\"resources\": \"CellPhoneDB\"},\n",
    "    #interactions=lrs,\n",
    "    jobs=4\n",
    "    #transmitter_params={\"categories\": \"ligand\"},\n",
    "    #receiver_params={\"categories\": \"receptor\"},\n",
    ")\n",
    "\n",
    "\n",
    "p_coarse = pkl.dumps(res_coarse)\n",
    "fout = open('results/'+diagstr+'coarse_ligrec_009.pkl', 'wb')\n",
    "fout.write(p_coarse)\n",
    "fout.close()\n",
    "\n",
    "p_fine = pkl.dumps(res_fine)\n",
    "fout = open('results/'+diagstr+'fine_ligrec_009.pkl', 'wb')\n",
    "fout.write(p_fine)\n",
    "fout.close()\n"
   ]
  },
  {
   "cell_type": "code",
   "execution_count": null,
   "id": "6f135fa83672f71e",
   "metadata": {
    "collapsed": false,
    "is_executing": true,
    "jupyter": {
     "outputs_hidden": false
    }
   },
   "outputs": [],
   "source": []
  }
 ],
 "metadata": {
  "kernelspec": {
   "display_name": "Python 3 (ipykernel)",
   "language": "python",
   "name": "python3"
  },
  "language_info": {
   "codemirror_mode": {
    "name": "ipython",
    "version": 3
   },
   "file_extension": ".py",
   "mimetype": "text/x-python",
   "name": "python",
   "nbconvert_exporter": "python",
   "pygments_lexer": "ipython3",
   "version": "3.11.0"
  }
 },
 "nbformat": 4,
 "nbformat_minor": 5
}
